{
 "cells": [
  {
   "cell_type": "markdown",
   "metadata": {},
   "source": [
    "# Analyse Correlations in the Dataset\n",
    "## **A Notebook for Finding Correlations Across Demographic Categories and Income/Wage**"
   ]
  },
  {
   "cell_type": "code",
   "execution_count": 1,
   "metadata": {},
   "outputs": [],
   "source": [
    "import pandas as pd\n",
    "import seaborn as sns"
   ]
  },
  {
   "cell_type": "code",
   "execution_count": 2,
   "metadata": {},
   "outputs": [
    {
     "name": "stdout",
     "output_type": "stream",
     "text": [
      "<class 'pandas.core.frame.DataFrame'>\n",
      "RangeIndex: 305121 entries, 0 to 305120\n",
      "Data columns (total 20 columns):\n",
      "DIVISION    305121 non-null object\n",
      "AGEP        305121 non-null object\n",
      "CIT         305121 non-null object\n",
      "COW         180138 non-null object\n",
      "DEAR        305121 non-null object\n",
      "DEYE        305121 non-null object\n",
      "FER         66094 non-null object\n",
      "JWMNP       131524 non-null object\n",
      "MAR         305121 non-null object\n",
      "SCHL        305121 non-null object\n",
      "SEX         305121 non-null object\n",
      "WAGP        305121 non-null float64\n",
      "WKHP        305121 non-null float64\n",
      "WKW         305121 non-null object\n",
      "DIS         305121 non-null object\n",
      "INDP        180138 non-null object\n",
      "OC          299166 non-null object\n",
      "PINCP       305121 non-null float64\n",
      "RAC1P       305121 non-null object\n",
      "WAOB        305121 non-null object\n",
      "dtypes: float64(3), object(17)\n",
      "memory usage: 46.6+ MB\n"
     ]
    }
   ],
   "source": [
    "correlational_df = pd.read_csv('preprocessed_data/correlational_analysis_data.csv')\n",
    "correlational_df.drop(columns='Unnamed: 0', inplace=True)"
   ]
  },
  {
   "cell_type": "code",
   "execution_count": 10,
   "metadata": {},
   "outputs": [
    {
     "data": {
      "text/plain": [
       "0         52\n",
       "1         49\n",
       "2         60\n",
       "3         37\n",
       "4         54\n",
       "          ..\n",
       "305116    19\n",
       "305117    89\n",
       "305118    58\n",
       "305119    26\n",
       "305120    68\n",
       "Name: AGEP, Length: 305121, dtype: int64"
      ]
     },
     "execution_count": 10,
     "metadata": {},
     "output_type": "execute_result"
    }
   ],
   "source": [
    "regression_df = pd.read_csv('preprocessed_data/regression_data.csv')\n",
    "regression_df.drop(columns='Unnamed: 0', inplace=True)"
   ]
  },
  {
   "cell_type": "code",
   "execution_count": 7,
   "metadata": {},
   "outputs": [
    {
     "data": {
      "text/plain": [
       "AGEP                           0.259407\n",
       "JWMNP                          0.288945\n",
       "WAGP                           0.860196\n",
       "WKHP                           0.442525\n",
       "PINCP                          1.000000\n",
       "COW[N/A]                       0.327048\n",
       "MAR[Married]                   0.284411\n",
       "MAR[Never Married/Under 15]    0.303162\n",
       "SCHL[No HS Diploma]            0.280376\n",
       "WKW[50 to 52 Weeks]            0.402492\n",
       "WKW[No Work/Under 16 Years]    0.360737\n",
       "INDP[N/A]                      0.327048\n",
       "OC[Has Children]               0.269165\n",
       "OC[No Children]                0.279869\n",
       "Name: PINCP, dtype: float64"
      ]
     },
     "execution_count": 7,
     "metadata": {},
     "output_type": "execute_result"
    }
   ],
   "source": [
    "correlation_matrix = regression_df.corr()\n",
    "# sns.heatmap(correlation_matrix, xticklabels=correlation_matrix.columns, yticklabels=correlation_matrix.columns, cmap='RdBu_r',annot=True,linewidth=0)\n",
    "#Correlation with output variable\n",
    "cor_target = abs(correlation_matrix[\"PINCP\"])\n",
    "#Selecting highly correlated features\n",
    "relevant_features = cor_target[cor_target>0.25]\n",
    "relevant_features"
   ]
  },
  {
   "cell_type": "code",
   "execution_count": 21,
   "metadata": {},
   "outputs": [],
   "source": [
    "from scipy import stats\n",
    "from statsmodels.stats.multicomp import pairwise_tukeyhsd\n",
    "from statsmodels.stats.multicomp import MultiComparison\n",
    "\n",
    "def oneway_ANOVA(regression_df):\n",
    "    AGEP = regression_df['AGEP']\n",
    "    JWMNP = regression_df['JWMNP']\n",
    "    PINCP = regression_df['PINCP']\n",
    "    results = stats.f_oneway(AGEP,JWMNP,PINCP)\n",
    "    fstatistic = results[0]\n",
    "    pvalue = results[1]\n",
    "    df1 = 3\n",
    "    df2 = (len(AGEP) - 1) + (len(JWMNP) - 1) + (len(PINCP) - 1)\n",
    "    levene_results = stats.levene(AGEP,JWMNP,PINCP)\n",
    "    shapiro_AGEP = stats.shapiro(AGEP)\n",
    "    shapiro_JWMNP = stats.shapiro(JWMNP)\n",
    "    shapiro_PINCP = stats.shapiro(PINCP)\n",
    "    mc = MultiComparison([regression_df['PINCP'],regression_df['JWMNP'],regression_df['AGEP']], [AGEP,JWMNP,PINCP])\n",
    "    tukey_result = mc.tukeyhsd()\n",
    "    return df1,df2,format(pvalue, '.5f'),format(fstatistic,'.2f'),levene_results,shapiro_AGEP,shapiro_JWMNP,shapiro_PINCP,print(tukey_result)"
   ]
  },
  {
   "cell_type": "code",
   "execution_count": 22,
   "metadata": {},
   "outputs": [
    {
     "ename": "ValueError",
     "evalue": "all the input array dimensions for the concatenation axis must match exactly, but along dimension 0, the array at index 0 has size 3 and the array at index 1 has size 915363",
     "output_type": "error",
     "traceback": [
      "\u001b[0;31m---------------------------------------------------------------------------\u001b[0m",
      "\u001b[0;31mValueError\u001b[0m                                Traceback (most recent call last)",
      "\u001b[0;32m<ipython-input-22-58ae01b0392a>\u001b[0m in \u001b[0;36m<module>\u001b[0;34m\u001b[0m\n\u001b[0;32m----> 1\u001b[0;31m \u001b[0moneway_ANOVA\u001b[0m\u001b[0;34m(\u001b[0m\u001b[0mregression_df\u001b[0m\u001b[0;34m)\u001b[0m\u001b[0;34m\u001b[0m\u001b[0;34m\u001b[0m\u001b[0m\n\u001b[0m",
      "\u001b[0;32m<ipython-input-21-c2588953cbdb>\u001b[0m in \u001b[0;36moneway_ANOVA\u001b[0;34m(regression_df)\u001b[0m\n\u001b[1;32m     17\u001b[0m     \u001b[0mshapiro_PINCP\u001b[0m \u001b[0;34m=\u001b[0m \u001b[0mstats\u001b[0m\u001b[0;34m.\u001b[0m\u001b[0mshapiro\u001b[0m\u001b[0;34m(\u001b[0m\u001b[0mPINCP\u001b[0m\u001b[0;34m)\u001b[0m\u001b[0;34m\u001b[0m\u001b[0;34m\u001b[0m\u001b[0m\n\u001b[1;32m     18\u001b[0m     \u001b[0mmc\u001b[0m \u001b[0;34m=\u001b[0m \u001b[0mMultiComparison\u001b[0m\u001b[0;34m(\u001b[0m\u001b[0;34m[\u001b[0m\u001b[0mregression_df\u001b[0m\u001b[0;34m[\u001b[0m\u001b[0;34m'PINCP'\u001b[0m\u001b[0;34m]\u001b[0m\u001b[0;34m,\u001b[0m\u001b[0mregression_df\u001b[0m\u001b[0;34m[\u001b[0m\u001b[0;34m'JWMNP'\u001b[0m\u001b[0;34m]\u001b[0m\u001b[0;34m,\u001b[0m\u001b[0mregression_df\u001b[0m\u001b[0;34m[\u001b[0m\u001b[0;34m'AGEP'\u001b[0m\u001b[0;34m]\u001b[0m\u001b[0;34m]\u001b[0m\u001b[0;34m,\u001b[0m \u001b[0;34m[\u001b[0m\u001b[0mAGEP\u001b[0m\u001b[0;34m,\u001b[0m\u001b[0mJWMNP\u001b[0m\u001b[0;34m,\u001b[0m\u001b[0mPINCP\u001b[0m\u001b[0;34m]\u001b[0m\u001b[0;34m)\u001b[0m\u001b[0;34m\u001b[0m\u001b[0;34m\u001b[0m\u001b[0m\n\u001b[0;32m---> 19\u001b[0;31m     \u001b[0mtukey_result\u001b[0m \u001b[0;34m=\u001b[0m \u001b[0mmc\u001b[0m\u001b[0;34m.\u001b[0m\u001b[0mtukeyhsd\u001b[0m\u001b[0;34m(\u001b[0m\u001b[0;34m)\u001b[0m\u001b[0;34m\u001b[0m\u001b[0;34m\u001b[0m\u001b[0m\n\u001b[0m\u001b[1;32m     20\u001b[0m     \u001b[0;32mreturn\u001b[0m \u001b[0mdf1\u001b[0m\u001b[0;34m,\u001b[0m\u001b[0mdf2\u001b[0m\u001b[0;34m,\u001b[0m\u001b[0mformat\u001b[0m\u001b[0;34m(\u001b[0m\u001b[0mpvalue\u001b[0m\u001b[0;34m,\u001b[0m \u001b[0;34m'.5f'\u001b[0m\u001b[0;34m)\u001b[0m\u001b[0;34m,\u001b[0m\u001b[0mformat\u001b[0m\u001b[0;34m(\u001b[0m\u001b[0mfstatistic\u001b[0m\u001b[0;34m,\u001b[0m\u001b[0;34m'.2f'\u001b[0m\u001b[0;34m)\u001b[0m\u001b[0;34m,\u001b[0m\u001b[0mlevene_results\u001b[0m\u001b[0;34m,\u001b[0m\u001b[0mshapiro_AGEP\u001b[0m\u001b[0;34m,\u001b[0m\u001b[0mshapiro_JWMNP\u001b[0m\u001b[0;34m,\u001b[0m\u001b[0mshapiro_PINCP\u001b[0m\u001b[0;34m,\u001b[0m\u001b[0mprint\u001b[0m\u001b[0;34m(\u001b[0m\u001b[0mtukey_result\u001b[0m\u001b[0;34m)\u001b[0m\u001b[0;34m\u001b[0m\u001b[0;34m\u001b[0m\u001b[0m\n",
      "\u001b[0;32m/opt/anaconda3/lib/python3.7/site-packages/statsmodels/sandbox/stats/multicomp.py\u001b[0m in \u001b[0;36mtukeyhsd\u001b[0;34m(self, alpha)\u001b[0m\n\u001b[1;32m    993\u001b[0m         \"\"\"\n\u001b[1;32m    994\u001b[0m         self.groupstats = GroupsStats(\n\u001b[0;32m--> 995\u001b[0;31m             \u001b[0mnp\u001b[0m\u001b[0;34m.\u001b[0m\u001b[0mcolumn_stack\u001b[0m\u001b[0;34m(\u001b[0m\u001b[0;34m[\u001b[0m\u001b[0mself\u001b[0m\u001b[0;34m.\u001b[0m\u001b[0mdata\u001b[0m\u001b[0;34m,\u001b[0m \u001b[0mself\u001b[0m\u001b[0;34m.\u001b[0m\u001b[0mgroupintlab\u001b[0m\u001b[0;34m]\u001b[0m\u001b[0;34m)\u001b[0m\u001b[0;34m,\u001b[0m\u001b[0;34m\u001b[0m\u001b[0;34m\u001b[0m\u001b[0m\n\u001b[0m\u001b[1;32m    996\u001b[0m             useranks=False)\n\u001b[1;32m    997\u001b[0m \u001b[0;34m\u001b[0m\u001b[0m\n",
      "\u001b[0;32m<__array_function__ internals>\u001b[0m in \u001b[0;36mcolumn_stack\u001b[0;34m(*args, **kwargs)\u001b[0m\n",
      "\u001b[0;32m/opt/anaconda3/lib/python3.7/site-packages/numpy/lib/shape_base.py\u001b[0m in \u001b[0;36mcolumn_stack\u001b[0;34m(tup)\u001b[0m\n\u001b[1;32m    639\u001b[0m             \u001b[0marr\u001b[0m \u001b[0;34m=\u001b[0m \u001b[0marray\u001b[0m\u001b[0;34m(\u001b[0m\u001b[0marr\u001b[0m\u001b[0;34m,\u001b[0m \u001b[0mcopy\u001b[0m\u001b[0;34m=\u001b[0m\u001b[0;32mFalse\u001b[0m\u001b[0;34m,\u001b[0m \u001b[0msubok\u001b[0m\u001b[0;34m=\u001b[0m\u001b[0;32mTrue\u001b[0m\u001b[0;34m,\u001b[0m \u001b[0mndmin\u001b[0m\u001b[0;34m=\u001b[0m\u001b[0;36m2\u001b[0m\u001b[0;34m)\u001b[0m\u001b[0;34m.\u001b[0m\u001b[0mT\u001b[0m\u001b[0;34m\u001b[0m\u001b[0;34m\u001b[0m\u001b[0m\n\u001b[1;32m    640\u001b[0m         \u001b[0marrays\u001b[0m\u001b[0;34m.\u001b[0m\u001b[0mappend\u001b[0m\u001b[0;34m(\u001b[0m\u001b[0marr\u001b[0m\u001b[0;34m)\u001b[0m\u001b[0;34m\u001b[0m\u001b[0;34m\u001b[0m\u001b[0m\n\u001b[0;32m--> 641\u001b[0;31m     \u001b[0;32mreturn\u001b[0m \u001b[0m_nx\u001b[0m\u001b[0;34m.\u001b[0m\u001b[0mconcatenate\u001b[0m\u001b[0;34m(\u001b[0m\u001b[0marrays\u001b[0m\u001b[0;34m,\u001b[0m \u001b[0;36m1\u001b[0m\u001b[0;34m)\u001b[0m\u001b[0;34m\u001b[0m\u001b[0;34m\u001b[0m\u001b[0m\n\u001b[0m\u001b[1;32m    642\u001b[0m \u001b[0;34m\u001b[0m\u001b[0m\n\u001b[1;32m    643\u001b[0m \u001b[0;34m\u001b[0m\u001b[0m\n",
      "\u001b[0;32m<__array_function__ internals>\u001b[0m in \u001b[0;36mconcatenate\u001b[0;34m(*args, **kwargs)\u001b[0m\n",
      "\u001b[0;31mValueError\u001b[0m: all the input array dimensions for the concatenation axis must match exactly, but along dimension 0, the array at index 0 has size 3 and the array at index 1 has size 915363"
     ]
    }
   ],
   "source": [
    "oneway_ANOVA(regression_df)"
   ]
  },
  {
   "cell_type": "markdown",
   "metadata": {},
   "source": [
    "U might wanna try out an 18-way ANOVA if u want, that could save time\n",
    "Then you only have to go do 1-way ANOVAS on the catégories that were significant from that 18-way test"
   ]
  }
 ],
 "metadata": {
  "kernelspec": {
   "display_name": "Python 3",
   "language": "python",
   "name": "python3"
  },
  "language_info": {
   "codemirror_mode": {
    "name": "ipython",
    "version": 3
   },
   "file_extension": ".py",
   "mimetype": "text/x-python",
   "name": "python",
   "nbconvert_exporter": "python",
   "pygments_lexer": "ipython3",
   "version": "3.7.4"
  }
 },
 "nbformat": 4,
 "nbformat_minor": 2
}
