{
 "cells": [
  {
   "cell_type": "markdown",
   "metadata": {},
   "source": [
    "# A Method to Extract 1% Samples of Data\n",
    "## **Run only a, b, c, or d at a time to avoid memory overflow**"
   ]
  },
  {
   "cell_type": "code",
   "execution_count": 1,
   "metadata": {},
   "outputs": [],
   "source": [
    "import pandas as pd"
   ]
  },
  {
   "cell_type": "code",
   "execution_count": 2,
   "metadata": {},
   "outputs": [],
   "source": [
    "# psam_pusa = pd.read_csv('us_personal/psam_pusa.csv')\n",
    "# psam_pusb = pd.read_csv('us_personal/psam_pusb.csv')\n",
    "# psam_pusc = pd.read_csv('us_personal/psam_pusc.csv')\n",
    "psam_pusd = pd.read_csv('us_personal/psam_pusd.csv')"
   ]
  },
  {
   "cell_type": "code",
   "execution_count": 3,
   "metadata": {},
   "outputs": [
    {
     "output_type": "execute_result",
     "data": {
      "text/plain": "count    3.299316e+06\nmean     2.800658e+04\nstd      5.027155e+04\nmin      0.000000e+00\n25%      0.000000e+00\n50%      8.000000e+03\n75%      4.000000e+04\nmax      5.210000e+05\nName: WAGP, dtype: float64"
     },
     "metadata": {},
     "execution_count": 3
    }
   ],
   "source": [
    "# psam_pusa['WAGP'].describe()\n",
    "# psam_pusb['WAGP'].describe()\n",
    "# psam_pusc['WAGP'].describe()\n",
    "psam_pusd['WAGP'].describe()"
   ]
  },
  {
   "cell_type": "code",
   "execution_count": 8,
   "metadata": {},
   "outputs": [
    {
     "output_type": "execute_result",
     "data": {
      "text/plain": "count    4.001965e+06\nmean     1.699012e+00\nstd      1.898641e+00\nmin      1.000000e+00\n25%      1.000000e+00\n50%      1.000000e+00\n75%      1.000000e+00\nmax      9.000000e+00\nName: RAC1P, dtype: float64"
     },
     "metadata": {},
     "execution_count": 8
    }
   ],
   "source": [
    "# psam_pusa['RAC1P'].describe()\n",
    "# psam_pusb['RAC1P'].describe()\n",
    "# psam_pusc['RAC1P'].describe()\n",
    "psam_pusd['RAC1P'].describe()"
   ]
  },
  {
   "cell_type": "code",
   "execution_count": 9,
   "metadata": {},
   "outputs": [
    {
     "output_type": "execute_result",
     "data": {
      "text/plain": "        RT       SERIALNO  DIVISION  SPORDER   PUMA  REGION  ST   ADJINC  \\\n2432720  P  2018HU0373803         7        4   2302       3  48  1013097   \n3982306  P  2015000928439         8        1    200       4  56  1061242   \n2779978  P  2015000586572         1        2    100       1  50  1061242   \n1957524  P  2016000772825         7        5   1400       3  48  1054346   \n3921045  P  2018HU0129915         3        2  55103       2  55  1013097   \n...     ..            ...       ...      ...    ...     ...  ..      ...   \n3506490  P  2017001338825         9        1  10504       4  53  1035838   \n1899062  P  2016000431856         7        1   3502       3  48  1054346   \n2353878  P  2018GQ0016638         7        1   3601       3  48  1013097   \n1062708  P  2015000410609         6        1   3202       3  47  1061242   \n3665977  P  2018HU0405036         5        4    400       3  54  1013097   \n\n         PWGTP  AGEP  ...  PWGTP71  PWGTP72  PWGTP73  PWGTP74  PWGTP75  \\\n2432720     24     9  ...       25       21        6       46        9   \n3982306      3    65  ...        3        3        2        4        4   \n2779978      5    67  ...        5        6        5        5        1   \n1957524     15     5  ...       11       26       12        5        4   \n3921045      9    16  ...        3       14        2        2       10   \n...        ...   ...  ...      ...      ...      ...      ...      ...   \n3506490     26    71  ...        7       23       25       28       26   \n1899062      9    57  ...        8       18        9        8        9   \n2353878      3    61  ...        0        0        2        2        0   \n1062708     24    38  ...       40       44        7       25       21   \n3665977     33    20  ...       37       19       29       36       12   \n\n         PWGTP76  PWGTP77  PWGTP78  PWGTP79  PWGTP80  \n2432720       28       45       38       43        8  \n3982306        1        1        1        3        2  \n2779978        1        5        5        2        5  \n1957524       12       12        4       31       14  \n3921045       11       14       13        3        8  \n...          ...      ...      ...      ...      ...  \n3506490       27       43       27        6        8  \n1899062        2       10       10       16       10  \n2353878        3        2        0        0        3  \n1062708       38        7       23       21       40  \n3665977       37       35       37       14       25  \n\n[40020 rows x 286 columns]",
      "text/html": "<div>\n<style scoped>\n    .dataframe tbody tr th:only-of-type {\n        vertical-align: middle;\n    }\n\n    .dataframe tbody tr th {\n        vertical-align: top;\n    }\n\n    .dataframe thead th {\n        text-align: right;\n    }\n</style>\n<table border=\"1\" class=\"dataframe\">\n  <thead>\n    <tr style=\"text-align: right;\">\n      <th></th>\n      <th>RT</th>\n      <th>SERIALNO</th>\n      <th>DIVISION</th>\n      <th>SPORDER</th>\n      <th>PUMA</th>\n      <th>REGION</th>\n      <th>ST</th>\n      <th>ADJINC</th>\n      <th>PWGTP</th>\n      <th>AGEP</th>\n      <th>...</th>\n      <th>PWGTP71</th>\n      <th>PWGTP72</th>\n      <th>PWGTP73</th>\n      <th>PWGTP74</th>\n      <th>PWGTP75</th>\n      <th>PWGTP76</th>\n      <th>PWGTP77</th>\n      <th>PWGTP78</th>\n      <th>PWGTP79</th>\n      <th>PWGTP80</th>\n    </tr>\n  </thead>\n  <tbody>\n    <tr>\n      <td>2432720</td>\n      <td>P</td>\n      <td>2018HU0373803</td>\n      <td>7</td>\n      <td>4</td>\n      <td>2302</td>\n      <td>3</td>\n      <td>48</td>\n      <td>1013097</td>\n      <td>24</td>\n      <td>9</td>\n      <td>...</td>\n      <td>25</td>\n      <td>21</td>\n      <td>6</td>\n      <td>46</td>\n      <td>9</td>\n      <td>28</td>\n      <td>45</td>\n      <td>38</td>\n      <td>43</td>\n      <td>8</td>\n    </tr>\n    <tr>\n      <td>3982306</td>\n      <td>P</td>\n      <td>2015000928439</td>\n      <td>8</td>\n      <td>1</td>\n      <td>200</td>\n      <td>4</td>\n      <td>56</td>\n      <td>1061242</td>\n      <td>3</td>\n      <td>65</td>\n      <td>...</td>\n      <td>3</td>\n      <td>3</td>\n      <td>2</td>\n      <td>4</td>\n      <td>4</td>\n      <td>1</td>\n      <td>1</td>\n      <td>1</td>\n      <td>3</td>\n      <td>2</td>\n    </tr>\n    <tr>\n      <td>2779978</td>\n      <td>P</td>\n      <td>2015000586572</td>\n      <td>1</td>\n      <td>2</td>\n      <td>100</td>\n      <td>1</td>\n      <td>50</td>\n      <td>1061242</td>\n      <td>5</td>\n      <td>67</td>\n      <td>...</td>\n      <td>5</td>\n      <td>6</td>\n      <td>5</td>\n      <td>5</td>\n      <td>1</td>\n      <td>1</td>\n      <td>5</td>\n      <td>5</td>\n      <td>2</td>\n      <td>5</td>\n    </tr>\n    <tr>\n      <td>1957524</td>\n      <td>P</td>\n      <td>2016000772825</td>\n      <td>7</td>\n      <td>5</td>\n      <td>1400</td>\n      <td>3</td>\n      <td>48</td>\n      <td>1054346</td>\n      <td>15</td>\n      <td>5</td>\n      <td>...</td>\n      <td>11</td>\n      <td>26</td>\n      <td>12</td>\n      <td>5</td>\n      <td>4</td>\n      <td>12</td>\n      <td>12</td>\n      <td>4</td>\n      <td>31</td>\n      <td>14</td>\n    </tr>\n    <tr>\n      <td>3921045</td>\n      <td>P</td>\n      <td>2018HU0129915</td>\n      <td>3</td>\n      <td>2</td>\n      <td>55103</td>\n      <td>2</td>\n      <td>55</td>\n      <td>1013097</td>\n      <td>9</td>\n      <td>16</td>\n      <td>...</td>\n      <td>3</td>\n      <td>14</td>\n      <td>2</td>\n      <td>2</td>\n      <td>10</td>\n      <td>11</td>\n      <td>14</td>\n      <td>13</td>\n      <td>3</td>\n      <td>8</td>\n    </tr>\n    <tr>\n      <td>...</td>\n      <td>...</td>\n      <td>...</td>\n      <td>...</td>\n      <td>...</td>\n      <td>...</td>\n      <td>...</td>\n      <td>...</td>\n      <td>...</td>\n      <td>...</td>\n      <td>...</td>\n      <td>...</td>\n      <td>...</td>\n      <td>...</td>\n      <td>...</td>\n      <td>...</td>\n      <td>...</td>\n      <td>...</td>\n      <td>...</td>\n      <td>...</td>\n      <td>...</td>\n      <td>...</td>\n    </tr>\n    <tr>\n      <td>3506490</td>\n      <td>P</td>\n      <td>2017001338825</td>\n      <td>9</td>\n      <td>1</td>\n      <td>10504</td>\n      <td>4</td>\n      <td>53</td>\n      <td>1035838</td>\n      <td>26</td>\n      <td>71</td>\n      <td>...</td>\n      <td>7</td>\n      <td>23</td>\n      <td>25</td>\n      <td>28</td>\n      <td>26</td>\n      <td>27</td>\n      <td>43</td>\n      <td>27</td>\n      <td>6</td>\n      <td>8</td>\n    </tr>\n    <tr>\n      <td>1899062</td>\n      <td>P</td>\n      <td>2016000431856</td>\n      <td>7</td>\n      <td>1</td>\n      <td>3502</td>\n      <td>3</td>\n      <td>48</td>\n      <td>1054346</td>\n      <td>9</td>\n      <td>57</td>\n      <td>...</td>\n      <td>8</td>\n      <td>18</td>\n      <td>9</td>\n      <td>8</td>\n      <td>9</td>\n      <td>2</td>\n      <td>10</td>\n      <td>10</td>\n      <td>16</td>\n      <td>10</td>\n    </tr>\n    <tr>\n      <td>2353878</td>\n      <td>P</td>\n      <td>2018GQ0016638</td>\n      <td>7</td>\n      <td>1</td>\n      <td>3601</td>\n      <td>3</td>\n      <td>48</td>\n      <td>1013097</td>\n      <td>3</td>\n      <td>61</td>\n      <td>...</td>\n      <td>0</td>\n      <td>0</td>\n      <td>2</td>\n      <td>2</td>\n      <td>0</td>\n      <td>3</td>\n      <td>2</td>\n      <td>0</td>\n      <td>0</td>\n      <td>3</td>\n    </tr>\n    <tr>\n      <td>1062708</td>\n      <td>P</td>\n      <td>2015000410609</td>\n      <td>6</td>\n      <td>1</td>\n      <td>3202</td>\n      <td>3</td>\n      <td>47</td>\n      <td>1061242</td>\n      <td>24</td>\n      <td>38</td>\n      <td>...</td>\n      <td>40</td>\n      <td>44</td>\n      <td>7</td>\n      <td>25</td>\n      <td>21</td>\n      <td>38</td>\n      <td>7</td>\n      <td>23</td>\n      <td>21</td>\n      <td>40</td>\n    </tr>\n    <tr>\n      <td>3665977</td>\n      <td>P</td>\n      <td>2018HU0405036</td>\n      <td>5</td>\n      <td>4</td>\n      <td>400</td>\n      <td>3</td>\n      <td>54</td>\n      <td>1013097</td>\n      <td>33</td>\n      <td>20</td>\n      <td>...</td>\n      <td>37</td>\n      <td>19</td>\n      <td>29</td>\n      <td>36</td>\n      <td>12</td>\n      <td>37</td>\n      <td>35</td>\n      <td>37</td>\n      <td>14</td>\n      <td>25</td>\n    </tr>\n  </tbody>\n</table>\n<p>40020 rows × 286 columns</p>\n</div>"
     },
     "metadata": {},
     "execution_count": 9
    }
   ],
   "source": [
    "# psam_pusa_sample = psam_pusa.sample(frac=0.01)\n",
    "# psam_pusa_sample\n",
    "# psam_pusb_sample = psam_pusb.sample(frac=0.01)\n",
    "# psam_pusb_sample\n",
    "# psam_pusc_sample = psam_pusc.sample(frac=0.01)\n",
    "# psam_pusc_sample\n",
    "psam_pusd_sample = psam_pusd.sample(frac=0.01)\n",
    "psam_pusd_sample"
   ]
  },
  {
   "cell_type": "code",
   "execution_count": 10,
   "metadata": {},
   "outputs": [],
   "source": [
    "# psam_pusa_sample.to_csv('us_personal/psam_pusa_sample.csv')\n",
    "# psam_pusb_sample.to_csv('us_personal/psam_pusb_sample.csv')\n",
    "# psam_pusc_sample.to_csv('us_personal/psam_pusc_sample.csv')\n",
    "psam_pusd_sample.to_csv('us_personal/psam_pusd_sample.csv')"
   ]
  },
  {
   "cell_type": "code",
   "execution_count": null,
   "metadata": {},
   "outputs": [],
   "source": []
  }
 ],
 "metadata": {
  "kernelspec": {
   "display_name": "Python 3",
   "language": "python",
   "name": "python3"
  },
  "language_info": {
   "codemirror_mode": {
    "name": "ipython",
    "version": 3
   },
   "file_extension": ".py",
   "mimetype": "text/x-python",
   "name": "python",
   "nbconvert_exporter": "python",
   "pygments_lexer": "ipython3",
   "version": "3.7.4-final"
  }
 },
 "nbformat": 4,
 "nbformat_minor": 2
}