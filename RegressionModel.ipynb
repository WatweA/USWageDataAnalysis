{
 "cells": [
  {
   "cell_type": "markdown",
   "metadata": {},
   "source": [
    "# Create Regression Models to Predict Income\n",
    "## **A Notebook for Using Demographic Data to Predict Income/Wage**"
   ]
  },
  {
   "cell_type": "markdown",
   "metadata": {},
   "source": [
    "#### Import the data from pickles, and separate into the features/targets"
   ]
  },
  {
   "cell_type": "code",
   "execution_count": 1,
   "metadata": {},
   "outputs": [],
   "source": [
    "import pandas as pd\n",
    "import numpy as np"
   ]
  },
  {
   "cell_type": "code",
   "execution_count": 2,
   "metadata": {},
   "outputs": [
    {
     "output_type": "execute_result",
     "data": {
      "text/plain": "         AGEP  JWMNP     WAGP  WKHP    PINCP  DIVISION_East North Central  \\\n0          19    0.0      0.0   0.0  -1500.0                          0.0   \n1          18    0.0   1600.0  21.0   1600.0                          0.0   \n2          53    0.0  10000.0  40.0  10000.0                          0.0   \n3          28    0.0      0.0   0.0      0.0                          0.0   \n4          25    0.0      0.0   0.0      0.0                          0.0   \n...       ...    ...      ...   ...      ...                          ...   \n3214534     9    0.0      0.0   0.0      0.0                          0.0   \n3214535     7    0.0      0.0   0.0      0.0                          0.0   \n3214536    49    5.0  18500.0  40.0  18500.0                          0.0   \n3214537    19   45.0  11500.0  40.0  11500.0                          0.0   \n3214538    71    0.0      0.0   0.0  51700.0                          0.0   \n\n         DIVISION_East South Central  DIVISION_Middle Atlantic  \\\n0                                1.0                       0.0   \n1                                1.0                       0.0   \n2                                1.0                       0.0   \n3                                1.0                       0.0   \n4                                1.0                       0.0   \n...                              ...                       ...   \n3214534                          0.0                       0.0   \n3214535                          0.0                       0.0   \n3214536                          0.0                       0.0   \n3214537                          0.0                       0.0   \n3214538                          0.0                       0.0   \n\n         DIVISION_Mountain  DIVISION_New England  ...  RAC1P_Pacific Islander  \\\n0                      0.0                   0.0  ...                     0.0   \n1                      0.0                   0.0  ...                     0.0   \n2                      0.0                   0.0  ...                     0.0   \n3                      0.0                   0.0  ...                     0.0   \n4                      0.0                   0.0  ...                     0.0   \n...                    ...                   ...  ...                     ...   \n3214534                1.0                   0.0  ...                     0.0   \n3214535                1.0                   0.0  ...                     0.0   \n3214536                1.0                   0.0  ...                     0.0   \n3214537                1.0                   0.0  ...                     0.0   \n3214538                1.0                   0.0  ...                     0.0   \n\n         RAC1P_White  WAOB_Africa  WAOB_Asia  WAOB_Europe  WAOB_Latin America  \\\n0                1.0          0.0        0.0          0.0                 0.0   \n1                0.0          0.0        0.0          0.0                 0.0   \n2                1.0          0.0        0.0          0.0                 0.0   \n3                1.0          0.0        0.0          0.0                 0.0   \n4                1.0          0.0        0.0          0.0                 0.0   \n...              ...          ...        ...          ...                 ...   \n3214534          1.0          0.0        0.0          0.0                 0.0   \n3214535          1.0          0.0        0.0          0.0                 0.0   \n3214536          1.0          0.0        0.0          0.0                 0.0   \n3214537          1.0          0.0        0.0          0.0                 0.0   \n3214538          1.0          0.0        0.0          0.0                 0.0   \n\n         WAOB_North America  WAOB_Oceania and at Sea  WAOB_PR and US Island  \\\n0                       0.0                      0.0                    0.0   \n1                       0.0                      0.0                    0.0   \n2                       0.0                      0.0                    0.0   \n3                       0.0                      0.0                    0.0   \n4                       0.0                      0.0                    0.0   \n...                     ...                      ...                    ...   \n3214534                 0.0                      0.0                    0.0   \n3214535                 0.0                      0.0                    0.0   \n3214536                 0.0                      0.0                    0.0   \n3214537                 0.0                      0.0                    0.0   \n3214538                 0.0                      0.0                    0.0   \n\n         WAOB_US State  \n0                  1.0  \n1                  1.0  \n2                  1.0  \n3                  1.0  \n4                  1.0  \n...                ...  \n3214534            1.0  \n3214535            1.0  \n3214536            1.0  \n3214537            1.0  \n3214538            1.0  \n\n[3214539 rows x 153 columns]",
      "text/html": "<div>\n<style scoped>\n    .dataframe tbody tr th:only-of-type {\n        vertical-align: middle;\n    }\n\n    .dataframe tbody tr th {\n        vertical-align: top;\n    }\n\n    .dataframe thead th {\n        text-align: right;\n    }\n</style>\n<table border=\"1\" class=\"dataframe\">\n  <thead>\n    <tr style=\"text-align: right;\">\n      <th></th>\n      <th>AGEP</th>\n      <th>JWMNP</th>\n      <th>WAGP</th>\n      <th>WKHP</th>\n      <th>PINCP</th>\n      <th>DIVISION_East North Central</th>\n      <th>DIVISION_East South Central</th>\n      <th>DIVISION_Middle Atlantic</th>\n      <th>DIVISION_Mountain</th>\n      <th>DIVISION_New England</th>\n      <th>...</th>\n      <th>RAC1P_Pacific Islander</th>\n      <th>RAC1P_White</th>\n      <th>WAOB_Africa</th>\n      <th>WAOB_Asia</th>\n      <th>WAOB_Europe</th>\n      <th>WAOB_Latin America</th>\n      <th>WAOB_North America</th>\n      <th>WAOB_Oceania and at Sea</th>\n      <th>WAOB_PR and US Island</th>\n      <th>WAOB_US State</th>\n    </tr>\n  </thead>\n  <tbody>\n    <tr>\n      <th>0</th>\n      <td>19</td>\n      <td>0.0</td>\n      <td>0.0</td>\n      <td>0.0</td>\n      <td>-1500.0</td>\n      <td>0.0</td>\n      <td>1.0</td>\n      <td>0.0</td>\n      <td>0.0</td>\n      <td>0.0</td>\n      <td>...</td>\n      <td>0.0</td>\n      <td>1.0</td>\n      <td>0.0</td>\n      <td>0.0</td>\n      <td>0.0</td>\n      <td>0.0</td>\n      <td>0.0</td>\n      <td>0.0</td>\n      <td>0.0</td>\n      <td>1.0</td>\n    </tr>\n    <tr>\n      <th>1</th>\n      <td>18</td>\n      <td>0.0</td>\n      <td>1600.0</td>\n      <td>21.0</td>\n      <td>1600.0</td>\n      <td>0.0</td>\n      <td>1.0</td>\n      <td>0.0</td>\n      <td>0.0</td>\n      <td>0.0</td>\n      <td>...</td>\n      <td>0.0</td>\n      <td>0.0</td>\n      <td>0.0</td>\n      <td>0.0</td>\n      <td>0.0</td>\n      <td>0.0</td>\n      <td>0.0</td>\n      <td>0.0</td>\n      <td>0.0</td>\n      <td>1.0</td>\n    </tr>\n    <tr>\n      <th>2</th>\n      <td>53</td>\n      <td>0.0</td>\n      <td>10000.0</td>\n      <td>40.0</td>\n      <td>10000.0</td>\n      <td>0.0</td>\n      <td>1.0</td>\n      <td>0.0</td>\n      <td>0.0</td>\n      <td>0.0</td>\n      <td>...</td>\n      <td>0.0</td>\n      <td>1.0</td>\n      <td>0.0</td>\n      <td>0.0</td>\n      <td>0.0</td>\n      <td>0.0</td>\n      <td>0.0</td>\n      <td>0.0</td>\n      <td>0.0</td>\n      <td>1.0</td>\n    </tr>\n    <tr>\n      <th>3</th>\n      <td>28</td>\n      <td>0.0</td>\n      <td>0.0</td>\n      <td>0.0</td>\n      <td>0.0</td>\n      <td>0.0</td>\n      <td>1.0</td>\n      <td>0.0</td>\n      <td>0.0</td>\n      <td>0.0</td>\n      <td>...</td>\n      <td>0.0</td>\n      <td>1.0</td>\n      <td>0.0</td>\n      <td>0.0</td>\n      <td>0.0</td>\n      <td>0.0</td>\n      <td>0.0</td>\n      <td>0.0</td>\n      <td>0.0</td>\n      <td>1.0</td>\n    </tr>\n    <tr>\n      <th>4</th>\n      <td>25</td>\n      <td>0.0</td>\n      <td>0.0</td>\n      <td>0.0</td>\n      <td>0.0</td>\n      <td>0.0</td>\n      <td>1.0</td>\n      <td>0.0</td>\n      <td>0.0</td>\n      <td>0.0</td>\n      <td>...</td>\n      <td>0.0</td>\n      <td>1.0</td>\n      <td>0.0</td>\n      <td>0.0</td>\n      <td>0.0</td>\n      <td>0.0</td>\n      <td>0.0</td>\n      <td>0.0</td>\n      <td>0.0</td>\n      <td>1.0</td>\n    </tr>\n    <tr>\n      <th>...</th>\n      <td>...</td>\n      <td>...</td>\n      <td>...</td>\n      <td>...</td>\n      <td>...</td>\n      <td>...</td>\n      <td>...</td>\n      <td>...</td>\n      <td>...</td>\n      <td>...</td>\n      <td>...</td>\n      <td>...</td>\n      <td>...</td>\n      <td>...</td>\n      <td>...</td>\n      <td>...</td>\n      <td>...</td>\n      <td>...</td>\n      <td>...</td>\n      <td>...</td>\n      <td>...</td>\n    </tr>\n    <tr>\n      <th>3214534</th>\n      <td>9</td>\n      <td>0.0</td>\n      <td>0.0</td>\n      <td>0.0</td>\n      <td>0.0</td>\n      <td>0.0</td>\n      <td>0.0</td>\n      <td>0.0</td>\n      <td>1.0</td>\n      <td>0.0</td>\n      <td>...</td>\n      <td>0.0</td>\n      <td>1.0</td>\n      <td>0.0</td>\n      <td>0.0</td>\n      <td>0.0</td>\n      <td>0.0</td>\n      <td>0.0</td>\n      <td>0.0</td>\n      <td>0.0</td>\n      <td>1.0</td>\n    </tr>\n    <tr>\n      <th>3214535</th>\n      <td>7</td>\n      <td>0.0</td>\n      <td>0.0</td>\n      <td>0.0</td>\n      <td>0.0</td>\n      <td>0.0</td>\n      <td>0.0</td>\n      <td>0.0</td>\n      <td>1.0</td>\n      <td>0.0</td>\n      <td>...</td>\n      <td>0.0</td>\n      <td>1.0</td>\n      <td>0.0</td>\n      <td>0.0</td>\n      <td>0.0</td>\n      <td>0.0</td>\n      <td>0.0</td>\n      <td>0.0</td>\n      <td>0.0</td>\n      <td>1.0</td>\n    </tr>\n    <tr>\n      <th>3214536</th>\n      <td>49</td>\n      <td>5.0</td>\n      <td>18500.0</td>\n      <td>40.0</td>\n      <td>18500.0</td>\n      <td>0.0</td>\n      <td>0.0</td>\n      <td>0.0</td>\n      <td>1.0</td>\n      <td>0.0</td>\n      <td>...</td>\n      <td>0.0</td>\n      <td>1.0</td>\n      <td>0.0</td>\n      <td>0.0</td>\n      <td>0.0</td>\n      <td>0.0</td>\n      <td>0.0</td>\n      <td>0.0</td>\n      <td>0.0</td>\n      <td>1.0</td>\n    </tr>\n    <tr>\n      <th>3214537</th>\n      <td>19</td>\n      <td>45.0</td>\n      <td>11500.0</td>\n      <td>40.0</td>\n      <td>11500.0</td>\n      <td>0.0</td>\n      <td>0.0</td>\n      <td>0.0</td>\n      <td>1.0</td>\n      <td>0.0</td>\n      <td>...</td>\n      <td>0.0</td>\n      <td>1.0</td>\n      <td>0.0</td>\n      <td>0.0</td>\n      <td>0.0</td>\n      <td>0.0</td>\n      <td>0.0</td>\n      <td>0.0</td>\n      <td>0.0</td>\n      <td>1.0</td>\n    </tr>\n    <tr>\n      <th>3214538</th>\n      <td>71</td>\n      <td>0.0</td>\n      <td>0.0</td>\n      <td>0.0</td>\n      <td>51700.0</td>\n      <td>0.0</td>\n      <td>0.0</td>\n      <td>0.0</td>\n      <td>1.0</td>\n      <td>0.0</td>\n      <td>...</td>\n      <td>0.0</td>\n      <td>1.0</td>\n      <td>0.0</td>\n      <td>0.0</td>\n      <td>0.0</td>\n      <td>0.0</td>\n      <td>0.0</td>\n      <td>0.0</td>\n      <td>0.0</td>\n      <td>1.0</td>\n    </tr>\n  </tbody>\n</table>\n<p>3214539 rows × 153 columns</p>\n</div>"
     },
     "metadata": {},
     "execution_count": 2
    }
   ],
   "source": [
    "us_personal = pd.read_pickle('preprocessed_data/onehot_data.zip')\n",
    "us_personal"
   ]
  },
  {
   "cell_type": "code",
   "execution_count": 28,
   "metadata": {},
   "outputs": [],
   "source": [
    "from sklearn.preprocessing import RobustScaler # a scaler to overcome outliers from the data\n",
    "from sklearn.linear_model import ElasticNet, LogisticRegression # baseline regression models\n",
    "from keras import Sequential # all relevant imports for Keras (TensorFlow based neural net)\n",
    "from keras.layers import Dense\n",
    "from keras.wrappers.scikit_learn import KerasRegressor\n",
    "\n",
    "from sklearn.metrics import mean_squared_error, r2_score # metrics to exaluate the performance of our regressors\n",
    "from sklearn.model_selection import GridSearchCV, PredefinedSplit"
   ]
  },
  {
   "cell_type": "code",
   "execution_count": 8,
   "metadata": {},
   "outputs": [],
   "source": [
    "# Separate the training, validation, and testing sets\n",
    "# Use a 70, 15, 15 percentage split for the three sets\n",
    "def train_val_test_split(df, train_size, val_size, test_size):\n",
    "    assert np.round(np.sum([train_size, val_size, test_size])) == 1 # ensure the sizes are valid\n",
    "    # create the index boundaries for the dataframe split\n",
    "    idx_a = int(train_size * len(df)); idx_b = int((train_size + val_size) * len(df))\n",
    "    train, validation, test = np.split(df.sample(frac=1), [idx_a, idx_b])\n",
    "    return train, validation, test\n",
    "\n",
    "train, validation, test = train_val_test_split(us_personal, 0.70, 0.15, 0.15)"
   ]
  },
  {
   "cell_type": "code",
   "execution_count": 27,
   "metadata": {},
   "outputs": [],
   "source": [
    "# Create the predefined split for using grid search to tune hyperparameters\n",
    "validation_split_index = [0 if i in validation.index else -1 for i in us_personal.index]\n",
    "predefined_split = PredefinedSplit(test_fold=validation_split_index)"
   ]
  },
  {
   "cell_type": "code",
   "execution_count": 31,
   "metadata": {},
   "outputs": [],
   "source": [
    "# Separate the data into three groups: incomes or wages (targets), and features (all other columns)\n",
    "# and return a corresponding dictionary with the three sets\n",
    "def features_targets(df):\n",
    "    features = df.drop(columns=['PINCP', 'WAGP'])\n",
    "    incomes = df['PINCP']\n",
    "    wages = df['WAGP']\n",
    "    return {'features':features, 'incomes':incomes, 'wages':wages}\n",
    "\n",
    "# create a dictionary representing the three sets and their features/targets\n",
    "dataset = {\n",
    "    'full':features_targets(us_personal),\n",
    "    'train':features_targets(train),\n",
    "    'validation':features_targets(validation),\n",
    "    'test':features_targets(test)\n",
    "}"
   ]
  },
  {
   "cell_type": "code",
   "execution_count": 32,
   "metadata": {},
   "outputs": [],
   "source": [
    "# Initialize the RobustScaler on the training data (fit before training each regression model)\n",
    "robust_scaler = RobustScaler().fit(dataset['full']['features'])"
   ]
  },
  {
   "cell_type": "markdown",
   "metadata": {},
   "source": [
    "## Linear Regression\n",
    "Implemented with ElasticNet, which combines L1 and L2 regularization"
   ]
  },
  {
   "cell_type": "code",
   "execution_count": 34,
   "metadata": {},
   "outputs": [],
   "source": [
    "linear_model_params = {\n",
    "    'alpha':[0.0, 0.01, 0.1, 1.0, 10.0],\n",
    "    'l1_ratio':[0.00, 0.25, 0.50, 0.75, 1.00]\n",
    "}\n",
    "linear_model = GridSearchCV(estimator=ElasticNet(fit_intercept=True, max_iter=1000000), param_grid=linear_model_params, cv=predefined_split)"
   ]
  },
  {
   "cell_type": "code",
   "execution_count": null,
   "metadata": {},
   "outputs": [],
   "source": []
  },
  {
   "cell_type": "markdown",
   "metadata": {},
   "source": [
    "## Logisitc Regression"
   ]
  },
  {
   "cell_type": "code",
   "execution_count": null,
   "metadata": {},
   "outputs": [],
   "source": []
  },
  {
   "cell_type": "code",
   "execution_count": null,
   "metadata": {},
   "outputs": [],
   "source": []
  },
  {
   "cell_type": "markdown",
   "metadata": {},
   "source": [
    "## Keras Neural Net Regression"
   ]
  },
  {
   "cell_type": "code",
   "execution_count": null,
   "metadata": {},
   "outputs": [],
   "source": []
  },
  {
   "cell_type": "code",
   "execution_count": null,
   "metadata": {},
   "outputs": [],
   "source": []
  }
 ],
 "metadata": {
  "kernelspec": {
   "display_name": "Python 3",
   "language": "python",
   "name": "python3"
  },
  "language_info": {
   "codemirror_mode": {
    "name": "ipython",
    "version": 3
   },
   "file_extension": ".py",
   "mimetype": "text/x-python",
   "name": "python",
   "nbconvert_exporter": "python",
   "pygments_lexer": "ipython3",
   "version": "3.7.4-final"
  }
 },
 "nbformat": 4,
 "nbformat_minor": 2
}