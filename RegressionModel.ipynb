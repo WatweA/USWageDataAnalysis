{
 "cells": [
  {
   "cell_type": "markdown",
   "metadata": {},
   "source": [
    "# Create Regression Models to Predict Income\n",
    "## **A Notebook for Using Demographic Data to Predict Income/Wage**"
   ]
  },
  {
   "cell_type": "code",
   "execution_count": 1,
   "metadata": {},
   "outputs": [],
   "source": [
    "import pandas as pd"
   ]
  },
  {
   "cell_type": "code",
   "execution_count": 2,
   "metadata": {},
   "outputs": [
    {
     "output_type": "execute_result",
     "data": {
      "text/plain": "        AGEP  JWMNP      WAGP  WKHP     PINCP  DIVISION[East North Central]  \\\n0         53   20.0   63000.0  42.0   80000.0                             0   \n1         54   60.0  476000.0  50.0  496000.0                             0   \n2         54   20.0   18000.0  20.0   18000.0                             0   \n3         68    0.0       0.0   0.0   50000.0                             0   \n4         46   20.0   16400.0  30.0    9500.0                             0   \n...      ...    ...       ...   ...       ...                           ...   \n152556    57   10.0   55000.0  40.0   55000.0                             0   \n152557    56   10.0   40000.0  40.0   40000.0                             0   \n152558    30   20.0   60000.0  40.0   60000.0                             0   \n152559    59   60.0   85000.0  40.0   86000.0                             0   \n152560     4    0.0       0.0   0.0       0.0                             0   \n\n        DIVISION[East South Central]  DIVISION[Middle Atlantic]  \\\n0                                  0                          0   \n1                                  0                          0   \n2                                  0                          0   \n3                                  0                          0   \n4                                  0                          0   \n...                              ...                        ...   \n152556                             0                          0   \n152557                             0                          0   \n152558                             0                          0   \n152559                             0                          0   \n152560                             1                          0   \n\n        DIVISION[Mountain]  DIVISION[New England]  ...  RAC1P[Other]  \\\n0                        0                      0  ...             0   \n1                        0                      0  ...             0   \n2                        0                      0  ...             0   \n3                        0                      1  ...             0   \n4                        0                      0  ...             0   \n...                    ...                    ...  ...           ...   \n152556                   0                      0  ...             0   \n152557                   0                      0  ...             0   \n152558                   0                      1  ...             0   \n152559                   0                      0  ...             0   \n152560                   0                      0  ...             0   \n\n        RAC1P[WHT]  WAOB[Africa]  WAOB[Asia]  WAOB[Europe]  \\\n0                0             0           0             0   \n1                1             0           0             0   \n2                1             1           0             0   \n3                0             0           0             0   \n4                1             0           0             0   \n...            ...           ...         ...           ...   \n152556           1             0           0             0   \n152557           1             0           0             0   \n152558           1             0           0             0   \n152559           1             0           0             0   \n152560           0             0           0             0   \n\n        WAOB[Latin America]  WAOB[Northern America]  WAOB[Oceania and at Sea]  \\\n0                         0                       0                         0   \n1                         0                       0                         0   \n2                         0                       0                         0   \n3                         0                       0                         0   \n4                         1                       0                         0   \n...                     ...                     ...                       ...   \n152556                    0                       0                         0   \n152557                    0                       0                         0   \n152558                    0                       0                         0   \n152559                    0                       0                         0   \n152560                    0                       0                         0   \n\n        WAOB[PR and US Island]  WAOB[US State]  \n0                            0               1  \n1                            0               1  \n2                            0               0  \n3                            0               1  \n4                            0               0  \n...                        ...             ...  \n152556                       0               1  \n152557                       0               1  \n152558                       0               1  \n152559                       0               1  \n152560                       0               1  \n\n[152561 rows x 103 columns]",
      "text/html": "<div>\n<style scoped>\n    .dataframe tbody tr th:only-of-type {\n        vertical-align: middle;\n    }\n\n    .dataframe tbody tr th {\n        vertical-align: top;\n    }\n\n    .dataframe thead th {\n        text-align: right;\n    }\n</style>\n<table border=\"1\" class=\"dataframe\">\n  <thead>\n    <tr style=\"text-align: right;\">\n      <th></th>\n      <th>AGEP</th>\n      <th>JWMNP</th>\n      <th>WAGP</th>\n      <th>WKHP</th>\n      <th>PINCP</th>\n      <th>DIVISION[East North Central]</th>\n      <th>DIVISION[East South Central]</th>\n      <th>DIVISION[Middle Atlantic]</th>\n      <th>DIVISION[Mountain]</th>\n      <th>DIVISION[New England]</th>\n      <th>...</th>\n      <th>RAC1P[Other]</th>\n      <th>RAC1P[WHT]</th>\n      <th>WAOB[Africa]</th>\n      <th>WAOB[Asia]</th>\n      <th>WAOB[Europe]</th>\n      <th>WAOB[Latin America]</th>\n      <th>WAOB[Northern America]</th>\n      <th>WAOB[Oceania and at Sea]</th>\n      <th>WAOB[PR and US Island]</th>\n      <th>WAOB[US State]</th>\n    </tr>\n  </thead>\n  <tbody>\n    <tr>\n      <td>0</td>\n      <td>53</td>\n      <td>20.0</td>\n      <td>63000.0</td>\n      <td>42.0</td>\n      <td>80000.0</td>\n      <td>0</td>\n      <td>0</td>\n      <td>0</td>\n      <td>0</td>\n      <td>0</td>\n      <td>...</td>\n      <td>0</td>\n      <td>0</td>\n      <td>0</td>\n      <td>0</td>\n      <td>0</td>\n      <td>0</td>\n      <td>0</td>\n      <td>0</td>\n      <td>0</td>\n      <td>1</td>\n    </tr>\n    <tr>\n      <td>1</td>\n      <td>54</td>\n      <td>60.0</td>\n      <td>476000.0</td>\n      <td>50.0</td>\n      <td>496000.0</td>\n      <td>0</td>\n      <td>0</td>\n      <td>0</td>\n      <td>0</td>\n      <td>0</td>\n      <td>...</td>\n      <td>0</td>\n      <td>1</td>\n      <td>0</td>\n      <td>0</td>\n      <td>0</td>\n      <td>0</td>\n      <td>0</td>\n      <td>0</td>\n      <td>0</td>\n      <td>1</td>\n    </tr>\n    <tr>\n      <td>2</td>\n      <td>54</td>\n      <td>20.0</td>\n      <td>18000.0</td>\n      <td>20.0</td>\n      <td>18000.0</td>\n      <td>0</td>\n      <td>0</td>\n      <td>0</td>\n      <td>0</td>\n      <td>0</td>\n      <td>...</td>\n      <td>0</td>\n      <td>1</td>\n      <td>1</td>\n      <td>0</td>\n      <td>0</td>\n      <td>0</td>\n      <td>0</td>\n      <td>0</td>\n      <td>0</td>\n      <td>0</td>\n    </tr>\n    <tr>\n      <td>3</td>\n      <td>68</td>\n      <td>0.0</td>\n      <td>0.0</td>\n      <td>0.0</td>\n      <td>50000.0</td>\n      <td>0</td>\n      <td>0</td>\n      <td>0</td>\n      <td>0</td>\n      <td>1</td>\n      <td>...</td>\n      <td>0</td>\n      <td>0</td>\n      <td>0</td>\n      <td>0</td>\n      <td>0</td>\n      <td>0</td>\n      <td>0</td>\n      <td>0</td>\n      <td>0</td>\n      <td>1</td>\n    </tr>\n    <tr>\n      <td>4</td>\n      <td>46</td>\n      <td>20.0</td>\n      <td>16400.0</td>\n      <td>30.0</td>\n      <td>9500.0</td>\n      <td>0</td>\n      <td>0</td>\n      <td>0</td>\n      <td>0</td>\n      <td>0</td>\n      <td>...</td>\n      <td>0</td>\n      <td>1</td>\n      <td>0</td>\n      <td>0</td>\n      <td>0</td>\n      <td>1</td>\n      <td>0</td>\n      <td>0</td>\n      <td>0</td>\n      <td>0</td>\n    </tr>\n    <tr>\n      <td>...</td>\n      <td>...</td>\n      <td>...</td>\n      <td>...</td>\n      <td>...</td>\n      <td>...</td>\n      <td>...</td>\n      <td>...</td>\n      <td>...</td>\n      <td>...</td>\n      <td>...</td>\n      <td>...</td>\n      <td>...</td>\n      <td>...</td>\n      <td>...</td>\n      <td>...</td>\n      <td>...</td>\n      <td>...</td>\n      <td>...</td>\n      <td>...</td>\n      <td>...</td>\n      <td>...</td>\n    </tr>\n    <tr>\n      <td>152556</td>\n      <td>57</td>\n      <td>10.0</td>\n      <td>55000.0</td>\n      <td>40.0</td>\n      <td>55000.0</td>\n      <td>0</td>\n      <td>0</td>\n      <td>0</td>\n      <td>0</td>\n      <td>0</td>\n      <td>...</td>\n      <td>0</td>\n      <td>1</td>\n      <td>0</td>\n      <td>0</td>\n      <td>0</td>\n      <td>0</td>\n      <td>0</td>\n      <td>0</td>\n      <td>0</td>\n      <td>1</td>\n    </tr>\n    <tr>\n      <td>152557</td>\n      <td>56</td>\n      <td>10.0</td>\n      <td>40000.0</td>\n      <td>40.0</td>\n      <td>40000.0</td>\n      <td>0</td>\n      <td>0</td>\n      <td>0</td>\n      <td>0</td>\n      <td>0</td>\n      <td>...</td>\n      <td>0</td>\n      <td>1</td>\n      <td>0</td>\n      <td>0</td>\n      <td>0</td>\n      <td>0</td>\n      <td>0</td>\n      <td>0</td>\n      <td>0</td>\n      <td>1</td>\n    </tr>\n    <tr>\n      <td>152558</td>\n      <td>30</td>\n      <td>20.0</td>\n      <td>60000.0</td>\n      <td>40.0</td>\n      <td>60000.0</td>\n      <td>0</td>\n      <td>0</td>\n      <td>0</td>\n      <td>0</td>\n      <td>1</td>\n      <td>...</td>\n      <td>0</td>\n      <td>1</td>\n      <td>0</td>\n      <td>0</td>\n      <td>0</td>\n      <td>0</td>\n      <td>0</td>\n      <td>0</td>\n      <td>0</td>\n      <td>1</td>\n    </tr>\n    <tr>\n      <td>152559</td>\n      <td>59</td>\n      <td>60.0</td>\n      <td>85000.0</td>\n      <td>40.0</td>\n      <td>86000.0</td>\n      <td>0</td>\n      <td>0</td>\n      <td>0</td>\n      <td>0</td>\n      <td>0</td>\n      <td>...</td>\n      <td>0</td>\n      <td>1</td>\n      <td>0</td>\n      <td>0</td>\n      <td>0</td>\n      <td>0</td>\n      <td>0</td>\n      <td>0</td>\n      <td>0</td>\n      <td>1</td>\n    </tr>\n    <tr>\n      <td>152560</td>\n      <td>4</td>\n      <td>0.0</td>\n      <td>0.0</td>\n      <td>0.0</td>\n      <td>0.0</td>\n      <td>0</td>\n      <td>1</td>\n      <td>0</td>\n      <td>0</td>\n      <td>0</td>\n      <td>...</td>\n      <td>0</td>\n      <td>0</td>\n      <td>0</td>\n      <td>0</td>\n      <td>0</td>\n      <td>0</td>\n      <td>0</td>\n      <td>0</td>\n      <td>0</td>\n      <td>1</td>\n    </tr>\n  </tbody>\n</table>\n<p>152561 rows × 103 columns</p>\n</div>"
     },
     "metadata": {},
     "execution_count": 2
    }
   ],
   "source": [
    "regression_df = pd.read_csv('preprocessed_data/regression_data.csv')\n",
    "regression_df.drop(columns='Unnamed: 0', inplace=True)\n",
    "regression_df"
   ]
  },
  {
   "cell_type": "code",
   "execution_count": null,
   "metadata": {},
   "outputs": [],
   "source": []
  }
 ],
 "metadata": {
  "kernelspec": {
   "display_name": "Python 3",
   "language": "python",
   "name": "python3"
  },
  "language_info": {
   "codemirror_mode": {
    "name": "ipython",
    "version": 3
   },
   "file_extension": ".py",
   "mimetype": "text/x-python",
   "name": "python",
   "nbconvert_exporter": "python",
   "pygments_lexer": "ipython3",
   "version": "3.7.4-final"
  }
 },
 "nbformat": 4,
 "nbformat_minor": 2
}