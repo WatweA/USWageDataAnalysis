{
 "cells": [
  {
   "cell_type": "markdown",
   "metadata": {},
   "source": [
    "# Analyse Correlations in the Dataset\n",
    "## **A Notebook for Finding Correlations Across Demographic Categories and Wage**"
   ]
  },
  {
   "cell_type": "code",
   "execution_count": 1,
   "metadata": {},
   "outputs": [],
   "source": [
    "import pandas as pd"
   ]
  },
  {
   "cell_type": "code",
   "execution_count": 2,
   "metadata": {},
   "outputs": [],
   "source": [
    "us_personal_a = pd.read_csv('us_personal_sample/psam_pusa_sample.csv')\n",
    "us_personal_b = pd.read_csv('us_personal_sample/psam_pusb_sample.csv')\n",
    "us_personal_c = pd.read_csv('us_personal_sample/psam_pusc_sample.csv')\n",
    "us_personal_d = pd.read_csv('us_personal_sample/psam_pusd_sample.csv')"
   ]
  },
  {
   "cell_type": "code",
   "execution_count": 3,
   "metadata": {},
   "outputs": [],
   "source": [
    "total = pd.concat([us_personal_a, us_personal_b, us_personal_c, us_personal_b])\n",
    "total.drop(columns='Unnamed: 0', inplace=True)"
   ]
  },
  {
   "cell_type": "code",
   "execution_count": 4,
   "metadata": {},
   "outputs": [
    {
     "output_type": "execute_result",
     "data": {
      "text/plain": "      RT       SERIALNO  DIVISION  SPORDER  PUMA  REGION  ST   ADJINC  PWGTP  \\\n0      P  2014000763571         5        1  3107       3  12  1070673     11   \n1      P  2018HU1163498         5        1  6300       3  12  1013097     13   \n2      P  2016000964524         9        2  5904       4   6  1054346     27   \n3      P  2017000168429         1        1   104       1   9  1035838     13   \n4      P  2015000747570         5        1  6002       3  13  1061242     19   \n...   ..            ...       ...      ...   ...     ...  ..      ...    ...   \n34169  P  2016000772726         4        2   602       2  20  1054346     20   \n34170  P  2018HU0197938         5        1  1300       3  24  1013097      6   \n34171  P  2014001002072         1        1  2800       1  25  1070673     24   \n34172  P  2016000103446         4        1  1000       2  27  1054346     44   \n34173  P  2016000164813         6        2   400       3  28  1054346     14   \n\n       AGEP  ...  PWGTP71  PWGTP72  PWGTP73  PWGTP74  PWGTP75  PWGTP76  \\\n0        53  ...       15       10       10       22       12       21   \n1        54  ...        4       23       28        4       13       14   \n2        54  ...       10       50       26       27        9       30   \n3        68  ...       25        5       13       15       26       22   \n4        46  ...       14       15       27       23        7       18   \n...     ...  ...      ...      ...      ...      ...      ...      ...   \n34169    57  ...       19       18       19        6       20        5   \n34170    56  ...       10        2        2        5        5        5   \n34171    30  ...        7       24       40        5       23        8   \n34172    59  ...       51       37       82       41       14       40   \n34173     4  ...       14       14       15       10        4        4   \n\n       PWGTP77  PWGTP78  PWGTP79  PWGTP80  \n0            3        3       13       11  \n1            5       12        3       24  \n2            7        8       45       29  \n3           16        3       25       21  \n4           34        4       20        6  \n...        ...      ...      ...      ...  \n34169       20       19        6        5  \n34170       10        5        1        6  \n34171       25       36       25        6  \n34172       74       85       40       42  \n34173       11       11        3       19  \n\n[152561 rows x 286 columns]",
      "text/html": "<div>\n<style scoped>\n    .dataframe tbody tr th:only-of-type {\n        vertical-align: middle;\n    }\n\n    .dataframe tbody tr th {\n        vertical-align: top;\n    }\n\n    .dataframe thead th {\n        text-align: right;\n    }\n</style>\n<table border=\"1\" class=\"dataframe\">\n  <thead>\n    <tr style=\"text-align: right;\">\n      <th></th>\n      <th>RT</th>\n      <th>SERIALNO</th>\n      <th>DIVISION</th>\n      <th>SPORDER</th>\n      <th>PUMA</th>\n      <th>REGION</th>\n      <th>ST</th>\n      <th>ADJINC</th>\n      <th>PWGTP</th>\n      <th>AGEP</th>\n      <th>...</th>\n      <th>PWGTP71</th>\n      <th>PWGTP72</th>\n      <th>PWGTP73</th>\n      <th>PWGTP74</th>\n      <th>PWGTP75</th>\n      <th>PWGTP76</th>\n      <th>PWGTP77</th>\n      <th>PWGTP78</th>\n      <th>PWGTP79</th>\n      <th>PWGTP80</th>\n    </tr>\n  </thead>\n  <tbody>\n    <tr>\n      <td>0</td>\n      <td>P</td>\n      <td>2014000763571</td>\n      <td>5</td>\n      <td>1</td>\n      <td>3107</td>\n      <td>3</td>\n      <td>12</td>\n      <td>1070673</td>\n      <td>11</td>\n      <td>53</td>\n      <td>...</td>\n      <td>15</td>\n      <td>10</td>\n      <td>10</td>\n      <td>22</td>\n      <td>12</td>\n      <td>21</td>\n      <td>3</td>\n      <td>3</td>\n      <td>13</td>\n      <td>11</td>\n    </tr>\n    <tr>\n      <td>1</td>\n      <td>P</td>\n      <td>2018HU1163498</td>\n      <td>5</td>\n      <td>1</td>\n      <td>6300</td>\n      <td>3</td>\n      <td>12</td>\n      <td>1013097</td>\n      <td>13</td>\n      <td>54</td>\n      <td>...</td>\n      <td>4</td>\n      <td>23</td>\n      <td>28</td>\n      <td>4</td>\n      <td>13</td>\n      <td>14</td>\n      <td>5</td>\n      <td>12</td>\n      <td>3</td>\n      <td>24</td>\n    </tr>\n    <tr>\n      <td>2</td>\n      <td>P</td>\n      <td>2016000964524</td>\n      <td>9</td>\n      <td>2</td>\n      <td>5904</td>\n      <td>4</td>\n      <td>6</td>\n      <td>1054346</td>\n      <td>27</td>\n      <td>54</td>\n      <td>...</td>\n      <td>10</td>\n      <td>50</td>\n      <td>26</td>\n      <td>27</td>\n      <td>9</td>\n      <td>30</td>\n      <td>7</td>\n      <td>8</td>\n      <td>45</td>\n      <td>29</td>\n    </tr>\n    <tr>\n      <td>3</td>\n      <td>P</td>\n      <td>2017000168429</td>\n      <td>1</td>\n      <td>1</td>\n      <td>104</td>\n      <td>1</td>\n      <td>9</td>\n      <td>1035838</td>\n      <td>13</td>\n      <td>68</td>\n      <td>...</td>\n      <td>25</td>\n      <td>5</td>\n      <td>13</td>\n      <td>15</td>\n      <td>26</td>\n      <td>22</td>\n      <td>16</td>\n      <td>3</td>\n      <td>25</td>\n      <td>21</td>\n    </tr>\n    <tr>\n      <td>4</td>\n      <td>P</td>\n      <td>2015000747570</td>\n      <td>5</td>\n      <td>1</td>\n      <td>6002</td>\n      <td>3</td>\n      <td>13</td>\n      <td>1061242</td>\n      <td>19</td>\n      <td>46</td>\n      <td>...</td>\n      <td>14</td>\n      <td>15</td>\n      <td>27</td>\n      <td>23</td>\n      <td>7</td>\n      <td>18</td>\n      <td>34</td>\n      <td>4</td>\n      <td>20</td>\n      <td>6</td>\n    </tr>\n    <tr>\n      <td>...</td>\n      <td>...</td>\n      <td>...</td>\n      <td>...</td>\n      <td>...</td>\n      <td>...</td>\n      <td>...</td>\n      <td>...</td>\n      <td>...</td>\n      <td>...</td>\n      <td>...</td>\n      <td>...</td>\n      <td>...</td>\n      <td>...</td>\n      <td>...</td>\n      <td>...</td>\n      <td>...</td>\n      <td>...</td>\n      <td>...</td>\n      <td>...</td>\n      <td>...</td>\n      <td>...</td>\n    </tr>\n    <tr>\n      <td>34169</td>\n      <td>P</td>\n      <td>2016000772726</td>\n      <td>4</td>\n      <td>2</td>\n      <td>602</td>\n      <td>2</td>\n      <td>20</td>\n      <td>1054346</td>\n      <td>20</td>\n      <td>57</td>\n      <td>...</td>\n      <td>19</td>\n      <td>18</td>\n      <td>19</td>\n      <td>6</td>\n      <td>20</td>\n      <td>5</td>\n      <td>20</td>\n      <td>19</td>\n      <td>6</td>\n      <td>5</td>\n    </tr>\n    <tr>\n      <td>34170</td>\n      <td>P</td>\n      <td>2018HU0197938</td>\n      <td>5</td>\n      <td>1</td>\n      <td>1300</td>\n      <td>3</td>\n      <td>24</td>\n      <td>1013097</td>\n      <td>6</td>\n      <td>56</td>\n      <td>...</td>\n      <td>10</td>\n      <td>2</td>\n      <td>2</td>\n      <td>5</td>\n      <td>5</td>\n      <td>5</td>\n      <td>10</td>\n      <td>5</td>\n      <td>1</td>\n      <td>6</td>\n    </tr>\n    <tr>\n      <td>34171</td>\n      <td>P</td>\n      <td>2014001002072</td>\n      <td>1</td>\n      <td>1</td>\n      <td>2800</td>\n      <td>1</td>\n      <td>25</td>\n      <td>1070673</td>\n      <td>24</td>\n      <td>30</td>\n      <td>...</td>\n      <td>7</td>\n      <td>24</td>\n      <td>40</td>\n      <td>5</td>\n      <td>23</td>\n      <td>8</td>\n      <td>25</td>\n      <td>36</td>\n      <td>25</td>\n      <td>6</td>\n    </tr>\n    <tr>\n      <td>34172</td>\n      <td>P</td>\n      <td>2016000103446</td>\n      <td>4</td>\n      <td>1</td>\n      <td>1000</td>\n      <td>2</td>\n      <td>27</td>\n      <td>1054346</td>\n      <td>44</td>\n      <td>59</td>\n      <td>...</td>\n      <td>51</td>\n      <td>37</td>\n      <td>82</td>\n      <td>41</td>\n      <td>14</td>\n      <td>40</td>\n      <td>74</td>\n      <td>85</td>\n      <td>40</td>\n      <td>42</td>\n    </tr>\n    <tr>\n      <td>34173</td>\n      <td>P</td>\n      <td>2016000164813</td>\n      <td>6</td>\n      <td>2</td>\n      <td>400</td>\n      <td>3</td>\n      <td>28</td>\n      <td>1054346</td>\n      <td>14</td>\n      <td>4</td>\n      <td>...</td>\n      <td>14</td>\n      <td>14</td>\n      <td>15</td>\n      <td>10</td>\n      <td>4</td>\n      <td>4</td>\n      <td>11</td>\n      <td>11</td>\n      <td>3</td>\n      <td>19</td>\n    </tr>\n  </tbody>\n</table>\n<p>152561 rows × 286 columns</p>\n</div>"
     },
     "metadata": {},
     "execution_count": 4
    }
   ],
   "source": [
    "total"
   ]
  },
  {
   "cell_type": "code",
   "execution_count": null,
   "metadata": {},
   "outputs": [],
   "source": []
  }
 ],
 "metadata": {
  "kernelspec": {
   "display_name": "Python 3",
   "language": "python",
   "name": "python3"
  },
  "language_info": {
   "codemirror_mode": {
    "name": "ipython",
    "version": 3
   },
   "file_extension": ".py",
   "mimetype": "text/x-python",
   "name": "python",
   "nbconvert_exporter": "python",
   "pygments_lexer": "ipython3",
   "version": "3.7.4-final"
  }
 },
 "nbformat": 4,
 "nbformat_minor": 2
}