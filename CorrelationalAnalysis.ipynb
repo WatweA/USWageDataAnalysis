{
 "cells": [
  {
   "cell_type": "markdown",
   "metadata": {},
   "source": [
    "# Analyse Correlations in the Dataset\n",
    "## **A Notebook for Finding Correlations Across Demographic Categories and Wage**"
   ]
  },
  {
   "cell_type": "code",
   "execution_count": 5,
   "metadata": {},
   "outputs": [],
   "source": [
    "import pandas as pd"
   ]
  },
  {
   "cell_type": "code",
   "execution_count": 6,
   "metadata": {},
   "outputs": [
    {
     "output_type": "error",
     "ename": "FileNotFoundError",
     "evalue": "[Errno 2] File b'us_personal_sample/psam_pusa_sample.csv' does not exist: b'us_personal_sample/psam_pusa_sample.csv'",
     "traceback": [
      "\u001b[1;31m---------------------------------------------------------------------------\u001b[0m",
      "\u001b[1;31mFileNotFoundError\u001b[0m                         Traceback (most recent call last)",
      "\u001b[1;32m<ipython-input-6-1658e8fc3ea1>\u001b[0m in \u001b[0;36m<module>\u001b[1;34m\u001b[0m\n\u001b[1;32m----> 1\u001b[1;33m \u001b[0mus_personal_a\u001b[0m \u001b[1;33m=\u001b[0m \u001b[0mpd\u001b[0m\u001b[1;33m.\u001b[0m\u001b[0mread_csv\u001b[0m\u001b[1;33m(\u001b[0m\u001b[1;34m'us_personal_sample/psam_pusa_sample.csv'\u001b[0m\u001b[1;33m)\u001b[0m\u001b[1;33m\u001b[0m\u001b[1;33m\u001b[0m\u001b[0m\n\u001b[0m\u001b[0;32m      2\u001b[0m \u001b[0mus_personal_b\u001b[0m \u001b[1;33m=\u001b[0m \u001b[0mpd\u001b[0m\u001b[1;33m.\u001b[0m\u001b[0mread_csv\u001b[0m\u001b[1;33m(\u001b[0m\u001b[1;34m'us_personal_sample/psam_pusb_sample.csv'\u001b[0m\u001b[1;33m)\u001b[0m\u001b[1;33m\u001b[0m\u001b[1;33m\u001b[0m\u001b[0m\n\u001b[0;32m      3\u001b[0m \u001b[0mus_personal_c\u001b[0m \u001b[1;33m=\u001b[0m \u001b[0mpd\u001b[0m\u001b[1;33m.\u001b[0m\u001b[0mread_csv\u001b[0m\u001b[1;33m(\u001b[0m\u001b[1;34m'us_personal_sample/psam_pusc_sample.csv'\u001b[0m\u001b[1;33m)\u001b[0m\u001b[1;33m\u001b[0m\u001b[1;33m\u001b[0m\u001b[0m\n\u001b[0;32m      4\u001b[0m \u001b[0mus_personal_d\u001b[0m \u001b[1;33m=\u001b[0m \u001b[0mpd\u001b[0m\u001b[1;33m.\u001b[0m\u001b[0mread_csv\u001b[0m\u001b[1;33m(\u001b[0m\u001b[1;34m'us_personal_sample/psam_pusd_sample.csv'\u001b[0m\u001b[1;33m)\u001b[0m\u001b[1;33m\u001b[0m\u001b[1;33m\u001b[0m\u001b[0m\n",
      "\u001b[1;32mC:\\ProgramData\\Anaconda3\\lib\\site-packages\\pandas\\io\\parsers.py\u001b[0m in \u001b[0;36mparser_f\u001b[1;34m(filepath_or_buffer, sep, delimiter, header, names, index_col, usecols, squeeze, prefix, mangle_dupe_cols, dtype, engine, converters, true_values, false_values, skipinitialspace, skiprows, skipfooter, nrows, na_values, keep_default_na, na_filter, verbose, skip_blank_lines, parse_dates, infer_datetime_format, keep_date_col, date_parser, dayfirst, cache_dates, iterator, chunksize, compression, thousands, decimal, lineterminator, quotechar, quoting, doublequote, escapechar, comment, encoding, dialect, error_bad_lines, warn_bad_lines, delim_whitespace, low_memory, memory_map, float_precision)\u001b[0m\n\u001b[0;32m    683\u001b[0m         )\n\u001b[0;32m    684\u001b[0m \u001b[1;33m\u001b[0m\u001b[0m\n\u001b[1;32m--> 685\u001b[1;33m         \u001b[1;32mreturn\u001b[0m \u001b[0m_read\u001b[0m\u001b[1;33m(\u001b[0m\u001b[0mfilepath_or_buffer\u001b[0m\u001b[1;33m,\u001b[0m \u001b[0mkwds\u001b[0m\u001b[1;33m)\u001b[0m\u001b[1;33m\u001b[0m\u001b[1;33m\u001b[0m\u001b[0m\n\u001b[0m\u001b[0;32m    686\u001b[0m \u001b[1;33m\u001b[0m\u001b[0m\n\u001b[0;32m    687\u001b[0m     \u001b[0mparser_f\u001b[0m\u001b[1;33m.\u001b[0m\u001b[0m__name__\u001b[0m \u001b[1;33m=\u001b[0m \u001b[0mname\u001b[0m\u001b[1;33m\u001b[0m\u001b[1;33m\u001b[0m\u001b[0m\n",
      "\u001b[1;32mC:\\ProgramData\\Anaconda3\\lib\\site-packages\\pandas\\io\\parsers.py\u001b[0m in \u001b[0;36m_read\u001b[1;34m(filepath_or_buffer, kwds)\u001b[0m\n\u001b[0;32m    455\u001b[0m \u001b[1;33m\u001b[0m\u001b[0m\n\u001b[0;32m    456\u001b[0m     \u001b[1;31m# Create the parser.\u001b[0m\u001b[1;33m\u001b[0m\u001b[1;33m\u001b[0m\u001b[1;33m\u001b[0m\u001b[0m\n\u001b[1;32m--> 457\u001b[1;33m     \u001b[0mparser\u001b[0m \u001b[1;33m=\u001b[0m \u001b[0mTextFileReader\u001b[0m\u001b[1;33m(\u001b[0m\u001b[0mfp_or_buf\u001b[0m\u001b[1;33m,\u001b[0m \u001b[1;33m**\u001b[0m\u001b[0mkwds\u001b[0m\u001b[1;33m)\u001b[0m\u001b[1;33m\u001b[0m\u001b[1;33m\u001b[0m\u001b[0m\n\u001b[0m\u001b[0;32m    458\u001b[0m \u001b[1;33m\u001b[0m\u001b[0m\n\u001b[0;32m    459\u001b[0m     \u001b[1;32mif\u001b[0m \u001b[0mchunksize\u001b[0m \u001b[1;32mor\u001b[0m \u001b[0miterator\u001b[0m\u001b[1;33m:\u001b[0m\u001b[1;33m\u001b[0m\u001b[1;33m\u001b[0m\u001b[0m\n",
      "\u001b[1;32mC:\\ProgramData\\Anaconda3\\lib\\site-packages\\pandas\\io\\parsers.py\u001b[0m in \u001b[0;36m__init__\u001b[1;34m(self, f, engine, **kwds)\u001b[0m\n\u001b[0;32m    893\u001b[0m             \u001b[0mself\u001b[0m\u001b[1;33m.\u001b[0m\u001b[0moptions\u001b[0m\u001b[1;33m[\u001b[0m\u001b[1;34m\"has_index_names\"\u001b[0m\u001b[1;33m]\u001b[0m \u001b[1;33m=\u001b[0m \u001b[0mkwds\u001b[0m\u001b[1;33m[\u001b[0m\u001b[1;34m\"has_index_names\"\u001b[0m\u001b[1;33m]\u001b[0m\u001b[1;33m\u001b[0m\u001b[1;33m\u001b[0m\u001b[0m\n\u001b[0;32m    894\u001b[0m \u001b[1;33m\u001b[0m\u001b[0m\n\u001b[1;32m--> 895\u001b[1;33m         \u001b[0mself\u001b[0m\u001b[1;33m.\u001b[0m\u001b[0m_make_engine\u001b[0m\u001b[1;33m(\u001b[0m\u001b[0mself\u001b[0m\u001b[1;33m.\u001b[0m\u001b[0mengine\u001b[0m\u001b[1;33m)\u001b[0m\u001b[1;33m\u001b[0m\u001b[1;33m\u001b[0m\u001b[0m\n\u001b[0m\u001b[0;32m    896\u001b[0m \u001b[1;33m\u001b[0m\u001b[0m\n\u001b[0;32m    897\u001b[0m     \u001b[1;32mdef\u001b[0m \u001b[0mclose\u001b[0m\u001b[1;33m(\u001b[0m\u001b[0mself\u001b[0m\u001b[1;33m)\u001b[0m\u001b[1;33m:\u001b[0m\u001b[1;33m\u001b[0m\u001b[1;33m\u001b[0m\u001b[0m\n",
      "\u001b[1;32mC:\\ProgramData\\Anaconda3\\lib\\site-packages\\pandas\\io\\parsers.py\u001b[0m in \u001b[0;36m_make_engine\u001b[1;34m(self, engine)\u001b[0m\n\u001b[0;32m   1133\u001b[0m     \u001b[1;32mdef\u001b[0m \u001b[0m_make_engine\u001b[0m\u001b[1;33m(\u001b[0m\u001b[0mself\u001b[0m\u001b[1;33m,\u001b[0m \u001b[0mengine\u001b[0m\u001b[1;33m=\u001b[0m\u001b[1;34m\"c\"\u001b[0m\u001b[1;33m)\u001b[0m\u001b[1;33m:\u001b[0m\u001b[1;33m\u001b[0m\u001b[1;33m\u001b[0m\u001b[0m\n\u001b[0;32m   1134\u001b[0m         \u001b[1;32mif\u001b[0m \u001b[0mengine\u001b[0m \u001b[1;33m==\u001b[0m \u001b[1;34m\"c\"\u001b[0m\u001b[1;33m:\u001b[0m\u001b[1;33m\u001b[0m\u001b[1;33m\u001b[0m\u001b[0m\n\u001b[1;32m-> 1135\u001b[1;33m             \u001b[0mself\u001b[0m\u001b[1;33m.\u001b[0m\u001b[0m_engine\u001b[0m \u001b[1;33m=\u001b[0m \u001b[0mCParserWrapper\u001b[0m\u001b[1;33m(\u001b[0m\u001b[0mself\u001b[0m\u001b[1;33m.\u001b[0m\u001b[0mf\u001b[0m\u001b[1;33m,\u001b[0m \u001b[1;33m**\u001b[0m\u001b[0mself\u001b[0m\u001b[1;33m.\u001b[0m\u001b[0moptions\u001b[0m\u001b[1;33m)\u001b[0m\u001b[1;33m\u001b[0m\u001b[1;33m\u001b[0m\u001b[0m\n\u001b[0m\u001b[0;32m   1136\u001b[0m         \u001b[1;32melse\u001b[0m\u001b[1;33m:\u001b[0m\u001b[1;33m\u001b[0m\u001b[1;33m\u001b[0m\u001b[0m\n\u001b[0;32m   1137\u001b[0m             \u001b[1;32mif\u001b[0m \u001b[0mengine\u001b[0m \u001b[1;33m==\u001b[0m \u001b[1;34m\"python\"\u001b[0m\u001b[1;33m:\u001b[0m\u001b[1;33m\u001b[0m\u001b[1;33m\u001b[0m\u001b[0m\n",
      "\u001b[1;32mC:\\ProgramData\\Anaconda3\\lib\\site-packages\\pandas\\io\\parsers.py\u001b[0m in \u001b[0;36m__init__\u001b[1;34m(self, src, **kwds)\u001b[0m\n\u001b[0;32m   1915\u001b[0m         \u001b[0mkwds\u001b[0m\u001b[1;33m[\u001b[0m\u001b[1;34m\"usecols\"\u001b[0m\u001b[1;33m]\u001b[0m \u001b[1;33m=\u001b[0m \u001b[0mself\u001b[0m\u001b[1;33m.\u001b[0m\u001b[0musecols\u001b[0m\u001b[1;33m\u001b[0m\u001b[1;33m\u001b[0m\u001b[0m\n\u001b[0;32m   1916\u001b[0m \u001b[1;33m\u001b[0m\u001b[0m\n\u001b[1;32m-> 1917\u001b[1;33m         \u001b[0mself\u001b[0m\u001b[1;33m.\u001b[0m\u001b[0m_reader\u001b[0m \u001b[1;33m=\u001b[0m \u001b[0mparsers\u001b[0m\u001b[1;33m.\u001b[0m\u001b[0mTextReader\u001b[0m\u001b[1;33m(\u001b[0m\u001b[0msrc\u001b[0m\u001b[1;33m,\u001b[0m \u001b[1;33m**\u001b[0m\u001b[0mkwds\u001b[0m\u001b[1;33m)\u001b[0m\u001b[1;33m\u001b[0m\u001b[1;33m\u001b[0m\u001b[0m\n\u001b[0m\u001b[0;32m   1918\u001b[0m         \u001b[0mself\u001b[0m\u001b[1;33m.\u001b[0m\u001b[0munnamed_cols\u001b[0m \u001b[1;33m=\u001b[0m \u001b[0mself\u001b[0m\u001b[1;33m.\u001b[0m\u001b[0m_reader\u001b[0m\u001b[1;33m.\u001b[0m\u001b[0munnamed_cols\u001b[0m\u001b[1;33m\u001b[0m\u001b[1;33m\u001b[0m\u001b[0m\n\u001b[0;32m   1919\u001b[0m \u001b[1;33m\u001b[0m\u001b[0m\n",
      "\u001b[1;32mpandas\\_libs\\parsers.pyx\u001b[0m in \u001b[0;36mpandas._libs.parsers.TextReader.__cinit__\u001b[1;34m()\u001b[0m\n",
      "\u001b[1;32mpandas\\_libs\\parsers.pyx\u001b[0m in \u001b[0;36mpandas._libs.parsers.TextReader._setup_parser_source\u001b[1;34m()\u001b[0m\n",
      "\u001b[1;31mFileNotFoundError\u001b[0m: [Errno 2] File b'us_personal_sample/psam_pusa_sample.csv' does not exist: b'us_personal_sample/psam_pusa_sample.csv'"
     ]
    }
   ],
   "source": [
    "us_personal_a = pd.read_csv('us_personal_sample/psam_pusa_sample.csv')\n",
    "us_personal_b = pd.read_csv('us_personal_sample/psam_pusb_sample.csv')\n",
    "us_personal_c = pd.read_csv('us_personal_sample/psam_pusc_sample.csv')\n",
    "us_personal_d = pd.read_csv('us_personal_sample/psam_pusd_sample.csv')"
   ]
  },
  {
   "cell_type": "code",
   "execution_count": 9,
   "metadata": {},
   "outputs": [],
   "source": [
    "total = pd.concat([us_personal_a, us_personal_b, us_personal_c, us_personal_b])"
   ]
  },
  {
   "cell_type": "code",
   "execution_count": 10,
   "metadata": {},
   "outputs": [
    {
     "output_type": "execute_result",
     "data": {
      "text/plain": "       Unnamed: 0 RT       SERIALNO  DIVISION  SPORDER   PUMA  REGION  ST  \\\n0         3269865  P  2014000763571         5        1   3107       3  12   \n1         4124953  P  2018HU1163498         5        1   6300       3  12   \n2         1747317  P  2016000964524         9        2   5904       4   6   \n3         3025548  P  2017000168429         1        1    104       1   9   \n4         4303430  P  2015000747570         5        1   6002       3  13   \n...           ... ..            ...       ...      ...    ...     ...  ..   \n40015     3506490  P  2017001338825         9        1  10504       4  53   \n40016     1899062  P  2016000431856         7        1   3502       3  48   \n40017     2353878  P  2018GQ0016638         7        1   3601       3  48   \n40018     1062708  P  2015000410609         6        1   3202       3  47   \n40019     3665977  P  2018HU0405036         5        4    400       3  54   \n\n        ADJINC  PWGTP  ...  PWGTP71  PWGTP72  PWGTP73  PWGTP74  PWGTP75  \\\n0      1070673     11  ...       15       10       10       22       12   \n1      1013097     13  ...        4       23       28        4       13   \n2      1054346     27  ...       10       50       26       27        9   \n3      1035838     13  ...       25        5       13       15       26   \n4      1061242     19  ...       14       15       27       23        7   \n...        ...    ...  ...      ...      ...      ...      ...      ...   \n40015  1035838     26  ...        7       23       25       28       26   \n40016  1054346      9  ...        8       18        9        8        9   \n40017  1013097      3  ...        0        0        2        2        0   \n40018  1061242     24  ...       40       44        7       25       21   \n40019  1013097     33  ...       37       19       29       36       12   \n\n       PWGTP76  PWGTP77  PWGTP78  PWGTP79  PWGTP80  \n0           21        3        3       13       11  \n1           14        5       12        3       24  \n2           30        7        8       45       29  \n3           22       16        3       25       21  \n4           18       34        4       20        6  \n...        ...      ...      ...      ...      ...  \n40015       27       43       27        6        8  \n40016        2       10       10       16       10  \n40017        3        2        0        0        3  \n40018       38        7       23       21       40  \n40019       37       35       37       14       25  \n\n[158407 rows x 287 columns]",
      "text/html": "<div>\n<style scoped>\n    .dataframe tbody tr th:only-of-type {\n        vertical-align: middle;\n    }\n\n    .dataframe tbody tr th {\n        vertical-align: top;\n    }\n\n    .dataframe thead th {\n        text-align: right;\n    }\n</style>\n<table border=\"1\" class=\"dataframe\">\n  <thead>\n    <tr style=\"text-align: right;\">\n      <th></th>\n      <th>Unnamed: 0</th>\n      <th>RT</th>\n      <th>SERIALNO</th>\n      <th>DIVISION</th>\n      <th>SPORDER</th>\n      <th>PUMA</th>\n      <th>REGION</th>\n      <th>ST</th>\n      <th>ADJINC</th>\n      <th>PWGTP</th>\n      <th>...</th>\n      <th>PWGTP71</th>\n      <th>PWGTP72</th>\n      <th>PWGTP73</th>\n      <th>PWGTP74</th>\n      <th>PWGTP75</th>\n      <th>PWGTP76</th>\n      <th>PWGTP77</th>\n      <th>PWGTP78</th>\n      <th>PWGTP79</th>\n      <th>PWGTP80</th>\n    </tr>\n  </thead>\n  <tbody>\n    <tr>\n      <td>0</td>\n      <td>3269865</td>\n      <td>P</td>\n      <td>2014000763571</td>\n      <td>5</td>\n      <td>1</td>\n      <td>3107</td>\n      <td>3</td>\n      <td>12</td>\n      <td>1070673</td>\n      <td>11</td>\n      <td>...</td>\n      <td>15</td>\n      <td>10</td>\n      <td>10</td>\n      <td>22</td>\n      <td>12</td>\n      <td>21</td>\n      <td>3</td>\n      <td>3</td>\n      <td>13</td>\n      <td>11</td>\n    </tr>\n    <tr>\n      <td>1</td>\n      <td>4124953</td>\n      <td>P</td>\n      <td>2018HU1163498</td>\n      <td>5</td>\n      <td>1</td>\n      <td>6300</td>\n      <td>3</td>\n      <td>12</td>\n      <td>1013097</td>\n      <td>13</td>\n      <td>...</td>\n      <td>4</td>\n      <td>23</td>\n      <td>28</td>\n      <td>4</td>\n      <td>13</td>\n      <td>14</td>\n      <td>5</td>\n      <td>12</td>\n      <td>3</td>\n      <td>24</td>\n    </tr>\n    <tr>\n      <td>2</td>\n      <td>1747317</td>\n      <td>P</td>\n      <td>2016000964524</td>\n      <td>9</td>\n      <td>2</td>\n      <td>5904</td>\n      <td>4</td>\n      <td>6</td>\n      <td>1054346</td>\n      <td>27</td>\n      <td>...</td>\n      <td>10</td>\n      <td>50</td>\n      <td>26</td>\n      <td>27</td>\n      <td>9</td>\n      <td>30</td>\n      <td>7</td>\n      <td>8</td>\n      <td>45</td>\n      <td>29</td>\n    </tr>\n    <tr>\n      <td>3</td>\n      <td>3025548</td>\n      <td>P</td>\n      <td>2017000168429</td>\n      <td>1</td>\n      <td>1</td>\n      <td>104</td>\n      <td>1</td>\n      <td>9</td>\n      <td>1035838</td>\n      <td>13</td>\n      <td>...</td>\n      <td>25</td>\n      <td>5</td>\n      <td>13</td>\n      <td>15</td>\n      <td>26</td>\n      <td>22</td>\n      <td>16</td>\n      <td>3</td>\n      <td>25</td>\n      <td>21</td>\n    </tr>\n    <tr>\n      <td>4</td>\n      <td>4303430</td>\n      <td>P</td>\n      <td>2015000747570</td>\n      <td>5</td>\n      <td>1</td>\n      <td>6002</td>\n      <td>3</td>\n      <td>13</td>\n      <td>1061242</td>\n      <td>19</td>\n      <td>...</td>\n      <td>14</td>\n      <td>15</td>\n      <td>27</td>\n      <td>23</td>\n      <td>7</td>\n      <td>18</td>\n      <td>34</td>\n      <td>4</td>\n      <td>20</td>\n      <td>6</td>\n    </tr>\n    <tr>\n      <td>...</td>\n      <td>...</td>\n      <td>...</td>\n      <td>...</td>\n      <td>...</td>\n      <td>...</td>\n      <td>...</td>\n      <td>...</td>\n      <td>...</td>\n      <td>...</td>\n      <td>...</td>\n      <td>...</td>\n      <td>...</td>\n      <td>...</td>\n      <td>...</td>\n      <td>...</td>\n      <td>...</td>\n      <td>...</td>\n      <td>...</td>\n      <td>...</td>\n      <td>...</td>\n      <td>...</td>\n    </tr>\n    <tr>\n      <td>40015</td>\n      <td>3506490</td>\n      <td>P</td>\n      <td>2017001338825</td>\n      <td>9</td>\n      <td>1</td>\n      <td>10504</td>\n      <td>4</td>\n      <td>53</td>\n      <td>1035838</td>\n      <td>26</td>\n      <td>...</td>\n      <td>7</td>\n      <td>23</td>\n      <td>25</td>\n      <td>28</td>\n      <td>26</td>\n      <td>27</td>\n      <td>43</td>\n      <td>27</td>\n      <td>6</td>\n      <td>8</td>\n    </tr>\n    <tr>\n      <td>40016</td>\n      <td>1899062</td>\n      <td>P</td>\n      <td>2016000431856</td>\n      <td>7</td>\n      <td>1</td>\n      <td>3502</td>\n      <td>3</td>\n      <td>48</td>\n      <td>1054346</td>\n      <td>9</td>\n      <td>...</td>\n      <td>8</td>\n      <td>18</td>\n      <td>9</td>\n      <td>8</td>\n      <td>9</td>\n      <td>2</td>\n      <td>10</td>\n      <td>10</td>\n      <td>16</td>\n      <td>10</td>\n    </tr>\n    <tr>\n      <td>40017</td>\n      <td>2353878</td>\n      <td>P</td>\n      <td>2018GQ0016638</td>\n      <td>7</td>\n      <td>1</td>\n      <td>3601</td>\n      <td>3</td>\n      <td>48</td>\n      <td>1013097</td>\n      <td>3</td>\n      <td>...</td>\n      <td>0</td>\n      <td>0</td>\n      <td>2</td>\n      <td>2</td>\n      <td>0</td>\n      <td>3</td>\n      <td>2</td>\n      <td>0</td>\n      <td>0</td>\n      <td>3</td>\n    </tr>\n    <tr>\n      <td>40018</td>\n      <td>1062708</td>\n      <td>P</td>\n      <td>2015000410609</td>\n      <td>6</td>\n      <td>1</td>\n      <td>3202</td>\n      <td>3</td>\n      <td>47</td>\n      <td>1061242</td>\n      <td>24</td>\n      <td>...</td>\n      <td>40</td>\n      <td>44</td>\n      <td>7</td>\n      <td>25</td>\n      <td>21</td>\n      <td>38</td>\n      <td>7</td>\n      <td>23</td>\n      <td>21</td>\n      <td>40</td>\n    </tr>\n    <tr>\n      <td>40019</td>\n      <td>3665977</td>\n      <td>P</td>\n      <td>2018HU0405036</td>\n      <td>5</td>\n      <td>4</td>\n      <td>400</td>\n      <td>3</td>\n      <td>54</td>\n      <td>1013097</td>\n      <td>33</td>\n      <td>...</td>\n      <td>37</td>\n      <td>19</td>\n      <td>29</td>\n      <td>36</td>\n      <td>12</td>\n      <td>37</td>\n      <td>35</td>\n      <td>37</td>\n      <td>14</td>\n      <td>25</td>\n    </tr>\n  </tbody>\n</table>\n<p>158407 rows × 287 columns</p>\n</div>"
     },
     "metadata": {},
     "execution_count": 10
    }
   ],
   "source": [
    "total"
   ]
  },
  {
   "cell_type": "code",
   "execution_count": null,
   "metadata": {},
   "outputs": [],
   "source": []
  }
 ],
 "metadata": {
  "kernelspec": {
   "display_name": "Python 3",
   "language": "python",
   "name": "python3"
  },
  "language_info": {
   "codemirror_mode": {
    "name": "ipython",
    "version": 3
   },
   "file_extension": ".py",
   "mimetype": "text/x-python",
   "name": "python",
   "nbconvert_exporter": "python",
   "pygments_lexer": "ipython3",
   "version": "3.7.4-final"
  }
 },
 "nbformat": 4,
 "nbformat_minor": 2
}