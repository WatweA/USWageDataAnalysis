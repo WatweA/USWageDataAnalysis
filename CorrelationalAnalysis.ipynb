{
 "cells": [
  {
   "cell_type": "markdown",
   "metadata": {},
   "source": [
    "# Analyse Correlations in the Dataset\n",
    "## **A Notebook for Finding Correlations Across Demographic Categories and Income/Wage**"
   ]
  },
  {
   "cell_type": "code",
   "execution_count": 1,
   "metadata": {},
   "outputs": [],
   "source": [
    "import pandas as pd"
   ]
  },
  {
   "cell_type": "code",
   "execution_count": 2,
   "metadata": {},
   "outputs": [
    {
     "output_type": "execute_result",
     "data": {
      "text/plain": "                  DIVISION      AGEP                  CIT  \\\n0           South Atlantic  45 to 54              US Born   \n1           South Atlantic  45 to 54              US Born   \n2                  Pacific  45 to 54  Naturalized Citizen   \n3              New England  65 to 74              US Born   \n4           South Atlantic  45 to 54  Naturalized Citizen   \n...                    ...       ...                  ...   \n152556  West North Central  55 to 64              US Born   \n152557      South Atlantic  55 to 64              US Born   \n152558         New England  25 to 34              US Born   \n152559  West North Central  55 to 64              US Born   \n152560  East South Central  Under 18              US Born   \n\n                             COW                   DEAR                  DEYE  \\\n0             Federal Government  No Hearing Difficulty  No Vision Difficulty   \n1             Private For-Profit  No Hearing Difficulty  No Vision Difficulty   \n2             Private For-Profit  No Hearing Difficulty  No Vision Difficulty   \n3             Federal Government  No Hearing Difficulty  No Vision Difficulty   \n4       Self-Employed in own Inc  No Hearing Difficulty  No Vision Difficulty   \n...                          ...                    ...                   ...   \n152556        Private For-Profit  No Hearing Difficulty  No Vision Difficulty   \n152557          Local Government  No Hearing Difficulty  No Vision Difficulty   \n152558        Private For-Profit  No Hearing Difficulty  No Vision Difficulty   \n152559        Private For-Profit  No Hearing Difficulty  No Vision Difficulty   \n152560                       NaN  No Hearing Difficulty  No Vision Difficulty   \n\n                               FER             JWMNP                     MAR  \\\n0                              NaN  Up to 30 Minutes                 Married   \n1                              NaN  31 to 60 Minutes                 Married   \n2                              NaN  Up to 30 Minutes                 Married   \n3                              NaN               NaN                 Married   \n4                              NaN  Up to 30 Minutes                 Married   \n...                            ...               ...                     ...   \n152556                         NaN  Up to 30 Minutes                 Married   \n152557                         NaN  Up to 30 Minutes                 Married   \n152558  No Birth in Past 12 Months  Up to 30 Minutes                 Married   \n152559                         NaN  31 to 60 Minutes                 Married   \n152560                         NaN               NaN  Never Married/Under 15   \n\n                          SCHL  ...      WAGP  WKHP                     WKW  \\\n0            Bachelor's Degree  ...   63000.0  42.0          50 to 52 Weeks   \n1       HS Diploma/Alternative  ...  476000.0  50.0          50 to 52 Weeks   \n2            Bachelor's Degree  ...   18000.0  20.0          50 to 52 Weeks   \n3                 Some College  ...       0.0   0.0  No Work/Under 16 Years   \n4       HS Diploma/Alternative  ...   16400.0  30.0          50 to 52 Weeks   \n...                        ...  ...       ...   ...                     ...   \n152556            Some College  ...   55000.0  40.0          50 to 52 Weeks   \n152557       Bachelor's Degree  ...   40000.0  40.0          50 to 52 Weeks   \n152558            Some College  ...   60000.0  40.0          50 to 52 Weeks   \n152559       Bachelor's Degree  ...   85000.0  40.0          50 to 52 Weeks   \n152560           No HS Diploma  ...       0.0   0.0  No Work/Under 16 Years   \n\n                  DIS INDP      NATIVITY            OC     PINCP  RAC1P  \\\n0       No Disability  TRN        Native   No Children   80000.0    BLK   \n1       No Disability  CON        Native   No Children  496000.0    WHT   \n2       No Disability  ENT  Foreign Born   No Children   18000.0    WHT   \n3       No Disability  TRN        Native   No Children   50000.0    BLK   \n4       No Disability  CON  Foreign Born   No Children    9500.0    WHT   \n...               ...  ...           ...           ...       ...    ...   \n152556  No Disability  FIN        Native   No Children   55000.0    WHT   \n152557  No Disability  ADM        Native   No Children   40000.0    WHT   \n152558  No Disability  CON        Native   No Children   60000.0    WHT   \n152559  No Disability  PRF        Native   No Children   86000.0    WHT   \n152560  No Disability  NaN        Native  Has Children       0.0    BLK   \n\n                 WAOB  \n0            US State  \n1            US State  \n2              Africa  \n3            US State  \n4       Latin America  \n...               ...  \n152556       US State  \n152557       US State  \n152558       US State  \n152559       US State  \n152560       US State  \n\n[152561 rows x 21 columns]",
      "text/html": "<div>\n<style scoped>\n    .dataframe tbody tr th:only-of-type {\n        vertical-align: middle;\n    }\n\n    .dataframe tbody tr th {\n        vertical-align: top;\n    }\n\n    .dataframe thead th {\n        text-align: right;\n    }\n</style>\n<table border=\"1\" class=\"dataframe\">\n  <thead>\n    <tr style=\"text-align: right;\">\n      <th></th>\n      <th>DIVISION</th>\n      <th>AGEP</th>\n      <th>CIT</th>\n      <th>COW</th>\n      <th>DEAR</th>\n      <th>DEYE</th>\n      <th>FER</th>\n      <th>JWMNP</th>\n      <th>MAR</th>\n      <th>SCHL</th>\n      <th>...</th>\n      <th>WAGP</th>\n      <th>WKHP</th>\n      <th>WKW</th>\n      <th>DIS</th>\n      <th>INDP</th>\n      <th>NATIVITY</th>\n      <th>OC</th>\n      <th>PINCP</th>\n      <th>RAC1P</th>\n      <th>WAOB</th>\n    </tr>\n  </thead>\n  <tbody>\n    <tr>\n      <td>0</td>\n      <td>South Atlantic</td>\n      <td>45 to 54</td>\n      <td>US Born</td>\n      <td>Federal Government</td>\n      <td>No Hearing Difficulty</td>\n      <td>No Vision Difficulty</td>\n      <td>NaN</td>\n      <td>Up to 30 Minutes</td>\n      <td>Married</td>\n      <td>Bachelor's Degree</td>\n      <td>...</td>\n      <td>63000.0</td>\n      <td>42.0</td>\n      <td>50 to 52 Weeks</td>\n      <td>No Disability</td>\n      <td>TRN</td>\n      <td>Native</td>\n      <td>No Children</td>\n      <td>80000.0</td>\n      <td>BLK</td>\n      <td>US State</td>\n    </tr>\n    <tr>\n      <td>1</td>\n      <td>South Atlantic</td>\n      <td>45 to 54</td>\n      <td>US Born</td>\n      <td>Private For-Profit</td>\n      <td>No Hearing Difficulty</td>\n      <td>No Vision Difficulty</td>\n      <td>NaN</td>\n      <td>31 to 60 Minutes</td>\n      <td>Married</td>\n      <td>HS Diploma/Alternative</td>\n      <td>...</td>\n      <td>476000.0</td>\n      <td>50.0</td>\n      <td>50 to 52 Weeks</td>\n      <td>No Disability</td>\n      <td>CON</td>\n      <td>Native</td>\n      <td>No Children</td>\n      <td>496000.0</td>\n      <td>WHT</td>\n      <td>US State</td>\n    </tr>\n    <tr>\n      <td>2</td>\n      <td>Pacific</td>\n      <td>45 to 54</td>\n      <td>Naturalized Citizen</td>\n      <td>Private For-Profit</td>\n      <td>No Hearing Difficulty</td>\n      <td>No Vision Difficulty</td>\n      <td>NaN</td>\n      <td>Up to 30 Minutes</td>\n      <td>Married</td>\n      <td>Bachelor's Degree</td>\n      <td>...</td>\n      <td>18000.0</td>\n      <td>20.0</td>\n      <td>50 to 52 Weeks</td>\n      <td>No Disability</td>\n      <td>ENT</td>\n      <td>Foreign Born</td>\n      <td>No Children</td>\n      <td>18000.0</td>\n      <td>WHT</td>\n      <td>Africa</td>\n    </tr>\n    <tr>\n      <td>3</td>\n      <td>New England</td>\n      <td>65 to 74</td>\n      <td>US Born</td>\n      <td>Federal Government</td>\n      <td>No Hearing Difficulty</td>\n      <td>No Vision Difficulty</td>\n      <td>NaN</td>\n      <td>NaN</td>\n      <td>Married</td>\n      <td>Some College</td>\n      <td>...</td>\n      <td>0.0</td>\n      <td>0.0</td>\n      <td>No Work/Under 16 Years</td>\n      <td>No Disability</td>\n      <td>TRN</td>\n      <td>Native</td>\n      <td>No Children</td>\n      <td>50000.0</td>\n      <td>BLK</td>\n      <td>US State</td>\n    </tr>\n    <tr>\n      <td>4</td>\n      <td>South Atlantic</td>\n      <td>45 to 54</td>\n      <td>Naturalized Citizen</td>\n      <td>Self-Employed in own Inc</td>\n      <td>No Hearing Difficulty</td>\n      <td>No Vision Difficulty</td>\n      <td>NaN</td>\n      <td>Up to 30 Minutes</td>\n      <td>Married</td>\n      <td>HS Diploma/Alternative</td>\n      <td>...</td>\n      <td>16400.0</td>\n      <td>30.0</td>\n      <td>50 to 52 Weeks</td>\n      <td>No Disability</td>\n      <td>CON</td>\n      <td>Foreign Born</td>\n      <td>No Children</td>\n      <td>9500.0</td>\n      <td>WHT</td>\n      <td>Latin America</td>\n    </tr>\n    <tr>\n      <td>...</td>\n      <td>...</td>\n      <td>...</td>\n      <td>...</td>\n      <td>...</td>\n      <td>...</td>\n      <td>...</td>\n      <td>...</td>\n      <td>...</td>\n      <td>...</td>\n      <td>...</td>\n      <td>...</td>\n      <td>...</td>\n      <td>...</td>\n      <td>...</td>\n      <td>...</td>\n      <td>...</td>\n      <td>...</td>\n      <td>...</td>\n      <td>...</td>\n      <td>...</td>\n      <td>...</td>\n    </tr>\n    <tr>\n      <td>152556</td>\n      <td>West North Central</td>\n      <td>55 to 64</td>\n      <td>US Born</td>\n      <td>Private For-Profit</td>\n      <td>No Hearing Difficulty</td>\n      <td>No Vision Difficulty</td>\n      <td>NaN</td>\n      <td>Up to 30 Minutes</td>\n      <td>Married</td>\n      <td>Some College</td>\n      <td>...</td>\n      <td>55000.0</td>\n      <td>40.0</td>\n      <td>50 to 52 Weeks</td>\n      <td>No Disability</td>\n      <td>FIN</td>\n      <td>Native</td>\n      <td>No Children</td>\n      <td>55000.0</td>\n      <td>WHT</td>\n      <td>US State</td>\n    </tr>\n    <tr>\n      <td>152557</td>\n      <td>South Atlantic</td>\n      <td>55 to 64</td>\n      <td>US Born</td>\n      <td>Local Government</td>\n      <td>No Hearing Difficulty</td>\n      <td>No Vision Difficulty</td>\n      <td>NaN</td>\n      <td>Up to 30 Minutes</td>\n      <td>Married</td>\n      <td>Bachelor's Degree</td>\n      <td>...</td>\n      <td>40000.0</td>\n      <td>40.0</td>\n      <td>50 to 52 Weeks</td>\n      <td>No Disability</td>\n      <td>ADM</td>\n      <td>Native</td>\n      <td>No Children</td>\n      <td>40000.0</td>\n      <td>WHT</td>\n      <td>US State</td>\n    </tr>\n    <tr>\n      <td>152558</td>\n      <td>New England</td>\n      <td>25 to 34</td>\n      <td>US Born</td>\n      <td>Private For-Profit</td>\n      <td>No Hearing Difficulty</td>\n      <td>No Vision Difficulty</td>\n      <td>No Birth in Past 12 Months</td>\n      <td>Up to 30 Minutes</td>\n      <td>Married</td>\n      <td>Some College</td>\n      <td>...</td>\n      <td>60000.0</td>\n      <td>40.0</td>\n      <td>50 to 52 Weeks</td>\n      <td>No Disability</td>\n      <td>CON</td>\n      <td>Native</td>\n      <td>No Children</td>\n      <td>60000.0</td>\n      <td>WHT</td>\n      <td>US State</td>\n    </tr>\n    <tr>\n      <td>152559</td>\n      <td>West North Central</td>\n      <td>55 to 64</td>\n      <td>US Born</td>\n      <td>Private For-Profit</td>\n      <td>No Hearing Difficulty</td>\n      <td>No Vision Difficulty</td>\n      <td>NaN</td>\n      <td>31 to 60 Minutes</td>\n      <td>Married</td>\n      <td>Bachelor's Degree</td>\n      <td>...</td>\n      <td>85000.0</td>\n      <td>40.0</td>\n      <td>50 to 52 Weeks</td>\n      <td>No Disability</td>\n      <td>PRF</td>\n      <td>Native</td>\n      <td>No Children</td>\n      <td>86000.0</td>\n      <td>WHT</td>\n      <td>US State</td>\n    </tr>\n    <tr>\n      <td>152560</td>\n      <td>East South Central</td>\n      <td>Under 18</td>\n      <td>US Born</td>\n      <td>NaN</td>\n      <td>No Hearing Difficulty</td>\n      <td>No Vision Difficulty</td>\n      <td>NaN</td>\n      <td>NaN</td>\n      <td>Never Married/Under 15</td>\n      <td>No HS Diploma</td>\n      <td>...</td>\n      <td>0.0</td>\n      <td>0.0</td>\n      <td>No Work/Under 16 Years</td>\n      <td>No Disability</td>\n      <td>NaN</td>\n      <td>Native</td>\n      <td>Has Children</td>\n      <td>0.0</td>\n      <td>BLK</td>\n      <td>US State</td>\n    </tr>\n  </tbody>\n</table>\n<p>152561 rows × 21 columns</p>\n</div>"
     },
     "metadata": {},
     "execution_count": 2
    }
   ],
   "source": [
    "correlational_df = pd.read_csv('preprocessed_data/correlational_analysis_data.csv')\n",
    "correlational_df.drop(columns='Unnamed: 0', inplace=True)\n",
    "correlational_df"
   ]
  },
  {
   "cell_type": "code",
   "execution_count": null,
   "metadata": {},
   "outputs": [],
   "source": []
  }
 ],
 "metadata": {
  "kernelspec": {
   "display_name": "Python 3",
   "language": "python",
   "name": "python3"
  },
  "language_info": {
   "codemirror_mode": {
    "name": "ipython",
    "version": 3
   },
   "file_extension": ".py",
   "mimetype": "text/x-python",
   "name": "python",
   "nbconvert_exporter": "python",
   "pygments_lexer": "ipython3",
   "version": "3.7.4-final"
  }
 },
 "nbformat": 4,
 "nbformat_minor": 2
}